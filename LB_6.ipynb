{
 "cells": [
  {
   "cell_type": "markdown",
   "metadata": {},
   "source": [
    "# Лабораторная работа № 6. Эмбеддинги и обработка текстов\n",
    "## Будем рассматривать задачу классификации текстов на 2 категории: тексты статей сайта https://meduza.io/ и https://habr.com/ru/.\n",
    "Для работы с текстами нам понадобятся несколько дополнительных библиотек:\n",
    "nltk - большая библиотека, в которой содержится множество полезных функций для обработки текста, такие, как, например, удаление пунктуации, стемминг и лемматизацию\n",
    "snowballstemmer - стеммер для русского языка\n",
    "pymorphy2, pymystem3 - морфоанализаторы для русского языка\n",
    "gensim - библиотека, содержащая модели текстовых эмбеддингов"
   ]
  },
  {
   "cell_type": "code",
   "execution_count": null,
   "metadata": {},
   "outputs": [],
   "source": [
    "!pip install nltk snowballstemmer pymorphy2 pymystem3 gensim"
   ]
  },
  {
   "cell_type": "code",
   "execution_count": 53,
   "metadata": {},
   "outputs": [
    {
     "name": "stderr",
     "output_type": "stream",
     "text": [
      "[nltk_data] Downloading package punkt to\n",
      "[nltk_data]     C:\\Users\\dimak\\AppData\\Roaming\\nltk_data...\n",
      "[nltk_data]   Package punkt is already up-to-date!\n",
      "[nltk_data] Downloading package stopwords to\n",
      "[nltk_data]     C:\\Users\\dimak\\AppData\\Roaming\\nltk_data...\n",
      "[nltk_data]   Package stopwords is already up-to-date!\n"
     ]
    }
   ],
   "source": [
    "import nltk\n",
    "import pymystem3\n",
    "import pymorphy2\n",
    "from snowballstemmer import RussianStemmer\n",
    "nltk.download('punkt')\n",
    "nltk.download('stopwords')\n",
    "stemmer = RussianStemmer()\n",
    "morph = pymorphy2.MorphAnalyzer()\n",
    "mystem = pymystem3.Mystem()\n",
    "\n",
    "from string import punctuation\n",
    "from nltk.corpus import stopwords\n",
    "from pymystem3 import Mystem\n"
   ]
  },
  {
   "cell_type": "markdown",
   "metadata": {},
   "source": [
    "### Напишем функцию леммитизации наших данных для pandas."
   ]
  },
  {
   "cell_type": "code",
   "execution_count": 54,
   "metadata": {},
   "outputs": [],
   "source": [
    "from string import punctuation\n",
    "#Create lemmatizer and stopwords list\n",
    "mystem = Mystem() \n",
    "russian_stopwords = stopwords.words(\"russian\")\n",
    "\n",
    "#Preprocess function\n",
    "def preprocess_text(text):\n",
    "    tokens = mystem.lemmatize(text.lower())\n",
    "    tokens = [token for token in tokens if token not in russian_stopwords\\\n",
    "              and token != \" \" \\\n",
    "              and token.strip() not in punctuation]\n",
    "    \n",
    "    text = \" \".join(tokens)\n",
    "    \n",
    "    return text\n"
   ]
  },
  {
   "cell_type": "markdown",
   "metadata": {},
   "source": [
    "## Подготовим Текст.\n",
    "###  На данном этапе оставим только наши тексты исходя из правил:\n",
    "1. 50 текстов каждого класса\n",
    "2. В каждом тексте порядка 2к слов\n",
    "\n",
    "Хотя в голове были мысли \n",
    "\n",
    "![title](mem/3.jpg)"
   ]
  },
  {
   "cell_type": "code",
   "execution_count": 55,
   "metadata": {},
   "outputs": [],
   "source": [
    "import numpy as np\n",
    "import pandas as pd\n"
   ]
  },
  {
   "cell_type": "markdown",
   "metadata": {},
   "source": [
    "## Рассмотрим задачу бинарной классификации текстов. Возьмем набор текстов статей медузы и хабра  и попробуем подобрать такой алгоритм, который смог бы их отличать друг от друга."
   ]
  },
  {
   "cell_type": "code",
   "execution_count": 56,
   "metadata": {},
   "outputs": [],
   "source": [
    "import pandas as pd\n",
    "\n",
    "data= pd.read_csv('meduza.csv', sep=',')"
   ]
  },
  {
   "cell_type": "code",
   "execution_count": 57,
   "metadata": {},
   "outputs": [],
   "source": [
    "data['count'] = data['text'].str.count(' ') + 1\n",
    "srt = data.sort_values(['count'], ascending=[False])\n",
    "srt = srt[srt['count'].between(2000, 2070)]\n",
    "\n",
    "srt.head()\n",
    "meduza=srt.drop(['date', 'url', 'edition', 'topics', 'authors', 'title', 'reposts_fb', 'reposts_vk',\n",
    "                 'reposts_ok', 'reposts_twi', 'reposts_lj', 'reposts_tg', \n",
    "                 'likes',  'views', 'comm_count', 'count' ], axis='columns')\n",
    "meduza['class'] = 1"
   ]
  },
  {
   "cell_type": "code",
   "execution_count": 58,
   "metadata": {},
   "outputs": [
    {
     "data": {
      "text/html": [
       "<div>\n",
       "<style scoped>\n",
       "    .dataframe tbody tr th:only-of-type {\n",
       "        vertical-align: middle;\n",
       "    }\n",
       "\n",
       "    .dataframe tbody tr th {\n",
       "        vertical-align: top;\n",
       "    }\n",
       "\n",
       "    .dataframe thead th {\n",
       "        text-align: right;\n",
       "    }\n",
       "</style>\n",
       "<table border=\"1\" class=\"dataframe\">\n",
       "  <thead>\n",
       "    <tr style=\"text-align: right;\">\n",
       "      <th></th>\n",
       "      <th>text</th>\n",
       "      <th>class</th>\n",
       "    </tr>\n",
       "  </thead>\n",
       "  <tbody>\n",
       "    <tr>\n",
       "      <th>31845</th>\n",
       "      <td>23 апреля 2017 года на ютьюбе запустилось «Дру...</td>\n",
       "      <td>1</td>\n",
       "    </tr>\n",
       "    <tr>\n",
       "      <th>25101</th>\n",
       "      <td>Есть неизлечимые заболевания, при которых дети...</td>\n",
       "      <td>1</td>\n",
       "    </tr>\n",
       "    <tr>\n",
       "      <th>24227</th>\n",
       "      <td>В начале декабря в издательстве «КоЛибри»nвыхо...</td>\n",
       "      <td>1</td>\n",
       "    </tr>\n",
       "    <tr>\n",
       "      <th>25130</th>\n",
       "      <td>Борис Березовский на организованном им пикете ...</td>\n",
       "      <td>1</td>\n",
       "    </tr>\n",
       "    <tr>\n",
       "      <th>62311</th>\n",
       "      <td>В Киеве в середине июня решилиnрасформироватьn...</td>\n",
       "      <td>1</td>\n",
       "    </tr>\n",
       "  </tbody>\n",
       "</table>\n",
       "</div>"
      ],
      "text/plain": [
       "                                                    text  class\n",
       "31845  23 апреля 2017 года на ютьюбе запустилось «Дру...      1\n",
       "25101  Есть неизлечимые заболевания, при которых дети...      1\n",
       "24227  В начале декабря в издательстве «КоЛибри»nвыхо...      1\n",
       "25130  Борис Березовский на организованном им пикете ...      1\n",
       "62311  В Киеве в середине июня решилиnрасформироватьn...      1"
      ]
     },
     "execution_count": 58,
     "metadata": {},
     "output_type": "execute_result"
    }
   ],
   "source": [
    "meduza.head()"
   ]
  },
  {
   "cell_type": "code",
   "execution_count": 59,
   "metadata": {},
   "outputs": [],
   "source": [
    "\n",
    "#Create lemmatizer and stopwords list\n",
    "mystem = Mystem() \n",
    "russian_stopwords = stopwords.words(\"russian\")\n",
    "\n",
    "#Preprocess function\n",
    "def preprocess_text(text):\n",
    "    tokens = mystem.lemmatize(text.lower())\n",
    "    tokens = [token for token in tokens if token not in russian_stopwords\\\n",
    "              and token != \" \" \\\n",
    "              and token.strip() not in punctuation]\n",
    "    \n",
    "    text = \" \".join(tokens)\n",
    "    \n",
    "    return text"
   ]
  },
  {
   "cell_type": "code",
   "execution_count": 60,
   "metadata": {},
   "outputs": [],
   "source": [
    "meduza['text'] = meduza.apply(lambda row: preprocess_text(row['text']), axis=1)"
   ]
  },
  {
   "cell_type": "code",
   "execution_count": 61,
   "metadata": {},
   "outputs": [
    {
     "data": {
      "text/html": [
       "<div>\n",
       "<style scoped>\n",
       "    .dataframe tbody tr th:only-of-type {\n",
       "        vertical-align: middle;\n",
       "    }\n",
       "\n",
       "    .dataframe tbody tr th {\n",
       "        vertical-align: top;\n",
       "    }\n",
       "\n",
       "    .dataframe thead th {\n",
       "        text-align: right;\n",
       "    }\n",
       "</style>\n",
       "<table border=\"1\" class=\"dataframe\">\n",
       "  <thead>\n",
       "    <tr style=\"text-align: right;\">\n",
       "      <th></th>\n",
       "      <th>text</th>\n",
       "      <th>class</th>\n",
       "    </tr>\n",
       "  </thead>\n",
       "  <tbody>\n",
       "    <tr>\n",
       "      <th>31845</th>\n",
       "      <td>23 апрель 2017 год ютьюбе запуститься  « дружк...</td>\n",
       "      <td>1</td>\n",
       "    </tr>\n",
       "    <tr>\n",
       "      <th>25101</th>\n",
       "      <td>неизлечимый заболевание который ребенок мочь д...</td>\n",
       "      <td>1</td>\n",
       "    </tr>\n",
       "    <tr>\n",
       "      <th>24227</th>\n",
       "      <td>начало декабрь издательство  « колибри » пвыхо...</td>\n",
       "      <td>1</td>\n",
       "    </tr>\n",
       "    <tr>\n",
       "      <th>25130</th>\n",
       "      <td>борис березовский организованный пикет консуль...</td>\n",
       "      <td>1</td>\n",
       "    </tr>\n",
       "    <tr>\n",
       "      <th>62311</th>\n",
       "      <td>киев середина июнь решилипрасформироватьподин ...</td>\n",
       "      <td>1</td>\n",
       "    </tr>\n",
       "  </tbody>\n",
       "</table>\n",
       "</div>"
      ],
      "text/plain": [
       "                                                    text  class\n",
       "31845  23 апрель 2017 год ютьюбе запуститься  « дружк...      1\n",
       "25101  неизлечимый заболевание который ребенок мочь д...      1\n",
       "24227  начало декабрь издательство  « колибри » пвыхо...      1\n",
       "25130  борис березовский организованный пикет консуль...      1\n",
       "62311  киев середина июнь решилипрасформироватьподин ...      1"
      ]
     },
     "execution_count": 61,
     "metadata": {},
     "output_type": "execute_result"
    }
   ],
   "source": [
    "meduza.head()"
   ]
  },
  {
   "cell_type": "code",
   "execution_count": 62,
   "metadata": {},
   "outputs": [
    {
     "data": {
      "text/html": [
       "<div>\n",
       "<style scoped>\n",
       "    .dataframe tbody tr th:only-of-type {\n",
       "        vertical-align: middle;\n",
       "    }\n",
       "\n",
       "    .dataframe tbody tr th {\n",
       "        vertical-align: top;\n",
       "    }\n",
       "\n",
       "    .dataframe thead th {\n",
       "        text-align: right;\n",
       "    }\n",
       "</style>\n",
       "<table border=\"1\" class=\"dataframe\">\n",
       "  <thead>\n",
       "    <tr style=\"text-align: right;\">\n",
       "      <th></th>\n",
       "      <th>text</th>\n",
       "      <th>link</th>\n",
       "    </tr>\n",
       "  </thead>\n",
       "  <tbody>\n",
       "    <tr>\n",
       "      <th>0</th>\n",
       "      <td>Марк Шаттлворт объявил о том, что кодовым н...</td>\n",
       "      <td>https://habr.com/ru/post/129837/</td>\n",
       "    </tr>\n",
       "    <tr>\n",
       "      <th>1</th>\n",
       "      <td>Введение В марте 2015 года Epic Games поверну...</td>\n",
       "      <td>https://habr.com/ru/post/341756/</td>\n",
       "    </tr>\n",
       "    <tr>\n",
       "      <th>2</th>\n",
       "      <td>Выступление COO FunCorp, Дениса Литвинова, на...</td>\n",
       "      <td>https://habr.com/ru/company/mobio/blog/341826/</td>\n",
       "    </tr>\n",
       "    <tr>\n",
       "      <th>3</th>\n",
       "      <td>Здравствуйте! Команда ONLYOFFICE возвращается...</td>\n",
       "      <td>https://habr.com/ru/company/teamlab/blog/341522/</td>\n",
       "    </tr>\n",
       "    <tr>\n",
       "      <th>4</th>\n",
       "      <td>По умолчанию в Parallels Desktop 13 выставл...</td>\n",
       "      <td>https://habr.com/ru/company/parallels/blog/341...</td>\n",
       "    </tr>\n",
       "  </tbody>\n",
       "</table>\n",
       "</div>"
      ],
      "text/plain": [
       "                                                text  \\\n",
       "0     Марк Шаттлворт объявил о том, что кодовым н...   \n",
       "1   Введение В марте 2015 года Epic Games поверну...   \n",
       "2   Выступление COO FunCorp, Дениса Литвинова, на...   \n",
       "3   Здравствуйте! Команда ONLYOFFICE возвращается...   \n",
       "4     По умолчанию в Parallels Desktop 13 выставл...   \n",
       "\n",
       "                                                link  \n",
       "0                   https://habr.com/ru/post/129837/  \n",
       "1                   https://habr.com/ru/post/341756/  \n",
       "2     https://habr.com/ru/company/mobio/blog/341826/  \n",
       "3   https://habr.com/ru/company/teamlab/blog/341522/  \n",
       "4  https://habr.com/ru/company/parallels/blog/341...  "
      ]
     },
     "execution_count": 62,
     "metadata": {},
     "output_type": "execute_result"
    }
   ],
   "source": [
    "patients_df = pd.read_json('texts.json' , lines=True)\n",
    "patients_df = patients_df.replace(r'\\n',' ', regex=True) \n",
    "patients_df.head()"
   ]
  },
  {
   "cell_type": "code",
   "execution_count": 63,
   "metadata": {},
   "outputs": [],
   "source": [
    "patients_df['count'] = patients_df['text'].str.count(' ') + 1\n",
    "habr = patients_df.sort_values(['count'], ascending=[False])\n",
    "habr = habr[habr['count'].between(2000, 2032)]\n",
    "habr = habr.drop(['link', 'count'], axis='columns')\n",
    "habr['class'] = 0\n"
   ]
  },
  {
   "cell_type": "code",
   "execution_count": 65,
   "metadata": {},
   "outputs": [],
   "source": [
    "habr['text'] = habr.apply(lambda row: preprocess_text(row['text']), axis=1)"
   ]
  },
  {
   "cell_type": "code",
   "execution_count": 66,
   "metadata": {},
   "outputs": [
    {
     "data": {
      "text/html": [
       "<div>\n",
       "<style scoped>\n",
       "    .dataframe tbody tr th:only-of-type {\n",
       "        vertical-align: middle;\n",
       "    }\n",
       "\n",
       "    .dataframe tbody tr th {\n",
       "        vertical-align: top;\n",
       "    }\n",
       "\n",
       "    .dataframe thead th {\n",
       "        text-align: right;\n",
       "    }\n",
       "</style>\n",
       "<table border=\"1\" class=\"dataframe\">\n",
       "  <thead>\n",
       "    <tr style=\"text-align: right;\">\n",
       "      <th></th>\n",
       "      <th>text</th>\n",
       "      <th>class</th>\n",
       "    </tr>\n",
       "  </thead>\n",
       "  <tbody>\n",
       "    <tr>\n",
       "      <th>6427</th>\n",
       "      <td>последний шесть год пока строить команда проек...</td>\n",
       "      <td>0</td>\n",
       "    </tr>\n",
       "    <tr>\n",
       "      <th>9743</th>\n",
       "      <td>наш время оптический волокно становиться неотъ...</td>\n",
       "      <td>0</td>\n",
       "    </tr>\n",
       "    <tr>\n",
       "      <th>6772</th>\n",
       "      <td>снова здравствовать большой маленький любитель...</td>\n",
       "      <td>0</td>\n",
       "    </tr>\n",
       "    <tr>\n",
       "      <th>4161</th>\n",
       "      <td>большинство человек привыкать chromium  —  это...</td>\n",
       "      <td>0</td>\n",
       "    </tr>\n",
       "    <tr>\n",
       "      <th>9088</th>\n",
       "      <td>“ выживать сильный ,” —  пафосный заявлять вс...</td>\n",
       "      <td>0</td>\n",
       "    </tr>\n",
       "  </tbody>\n",
       "</table>\n",
       "</div>"
      ],
      "text/plain": [
       "                                                   text  class\n",
       "6427  последний шесть год пока строить команда проек...      0\n",
       "9743  наш время оптический волокно становиться неотъ...      0\n",
       "6772  снова здравствовать большой маленький любитель...      0\n",
       "4161  большинство человек привыкать chromium  —  это...      0\n",
       "9088   “ выживать сильный ,” —  пафосный заявлять вс...      0"
      ]
     },
     "execution_count": 66,
     "metadata": {},
     "output_type": "execute_result"
    }
   ],
   "source": [
    "\n",
    "habr.head()"
   ]
  },
  {
   "cell_type": "code",
   "execution_count": 67,
   "metadata": {},
   "outputs": [],
   "source": [
    "df = pd.DataFrame(columns=['text', 'class'])\n",
    "df = df.append(habr, ignore_index=True)"
   ]
  },
  {
   "cell_type": "markdown",
   "metadata": {},
   "source": [
    "### Посмотрим на вид нашего датафрейма"
   ]
  },
  {
   "cell_type": "code",
   "execution_count": 68,
   "metadata": {},
   "outputs": [
    {
     "data": {
      "text/html": [
       "<div>\n",
       "<style scoped>\n",
       "    .dataframe tbody tr th:only-of-type {\n",
       "        vertical-align: middle;\n",
       "    }\n",
       "\n",
       "    .dataframe tbody tr th {\n",
       "        vertical-align: top;\n",
       "    }\n",
       "\n",
       "    .dataframe thead th {\n",
       "        text-align: right;\n",
       "    }\n",
       "</style>\n",
       "<table border=\"1\" class=\"dataframe\">\n",
       "  <thead>\n",
       "    <tr style=\"text-align: right;\">\n",
       "      <th></th>\n",
       "      <th>text</th>\n",
       "      <th>class</th>\n",
       "    </tr>\n",
       "  </thead>\n",
       "  <tbody>\n",
       "    <tr>\n",
       "      <th>0</th>\n",
       "      <td>последний шесть год пока строить команда проек...</td>\n",
       "      <td>0</td>\n",
       "    </tr>\n",
       "    <tr>\n",
       "      <th>1</th>\n",
       "      <td>наш время оптический волокно становиться неотъ...</td>\n",
       "      <td>0</td>\n",
       "    </tr>\n",
       "    <tr>\n",
       "      <th>2</th>\n",
       "      <td>снова здравствовать большой маленький любитель...</td>\n",
       "      <td>0</td>\n",
       "    </tr>\n",
       "    <tr>\n",
       "      <th>3</th>\n",
       "      <td>большинство человек привыкать chromium  —  это...</td>\n",
       "      <td>0</td>\n",
       "    </tr>\n",
       "    <tr>\n",
       "      <th>4</th>\n",
       "      <td>“ выживать сильный ,” —  пафосный заявлять вс...</td>\n",
       "      <td>0</td>\n",
       "    </tr>\n",
       "  </tbody>\n",
       "</table>\n",
       "</div>"
      ],
      "text/plain": [
       "                                                text class\n",
       "0  последний шесть год пока строить команда проек...     0\n",
       "1  наш время оптический волокно становиться неотъ...     0\n",
       "2  снова здравствовать большой маленький любитель...     0\n",
       "3  большинство человек привыкать chromium  —  это...     0\n",
       "4   “ выживать сильный ,” —  пафосный заявлять вс...     0"
      ]
     },
     "execution_count": 68,
     "metadata": {},
     "output_type": "execute_result"
    }
   ],
   "source": [
    "df.head()"
   ]
  },
  {
   "cell_type": "code",
   "execution_count": 69,
   "metadata": {},
   "outputs": [],
   "source": [
    "\n",
    "df = df.append(meduza, ignore_index=True)"
   ]
  },
  {
   "cell_type": "code",
   "execution_count": 70,
   "metadata": {},
   "outputs": [
    {
     "data": {
      "text/html": [
       "<div>\n",
       "<style scoped>\n",
       "    .dataframe tbody tr th:only-of-type {\n",
       "        vertical-align: middle;\n",
       "    }\n",
       "\n",
       "    .dataframe tbody tr th {\n",
       "        vertical-align: top;\n",
       "    }\n",
       "\n",
       "    .dataframe thead th {\n",
       "        text-align: right;\n",
       "    }\n",
       "</style>\n",
       "<table border=\"1\" class=\"dataframe\">\n",
       "  <thead>\n",
       "    <tr style=\"text-align: right;\">\n",
       "      <th></th>\n",
       "      <th>text</th>\n",
       "      <th>class</th>\n",
       "    </tr>\n",
       "  </thead>\n",
       "  <tbody>\n",
       "    <tr>\n",
       "      <th>0</th>\n",
       "      <td>последний шесть год пока строить команда проек...</td>\n",
       "      <td>0</td>\n",
       "    </tr>\n",
       "    <tr>\n",
       "      <th>1</th>\n",
       "      <td>наш время оптический волокно становиться неотъ...</td>\n",
       "      <td>0</td>\n",
       "    </tr>\n",
       "    <tr>\n",
       "      <th>2</th>\n",
       "      <td>снова здравствовать большой маленький любитель...</td>\n",
       "      <td>0</td>\n",
       "    </tr>\n",
       "    <tr>\n",
       "      <th>3</th>\n",
       "      <td>большинство человек привыкать chromium  —  это...</td>\n",
       "      <td>0</td>\n",
       "    </tr>\n",
       "    <tr>\n",
       "      <th>4</th>\n",
       "      <td>“ выживать сильный ,” —  пафосный заявлять вс...</td>\n",
       "      <td>0</td>\n",
       "    </tr>\n",
       "    <tr>\n",
       "      <th>5</th>\n",
       "      <td>сразу сказать  —  englishdom просто обожать дж...</td>\n",
       "      <td>0</td>\n",
       "    </tr>\n",
       "    <tr>\n",
       "      <th>6</th>\n",
       "      <td>« создавать решение решать проблема нескольк...</td>\n",
       "      <td>0</td>\n",
       "    </tr>\n",
       "    <tr>\n",
       "      <th>7</th>\n",
       "      <td>писать ранее приоритетный направление работа н...</td>\n",
       "      <td>0</td>\n",
       "    </tr>\n",
       "    <tr>\n",
       "      <th>8</th>\n",
       "      <td>речь заходить разработка современный it систем...</td>\n",
       "      <td>0</td>\n",
       "    </tr>\n",
       "    <tr>\n",
       "      <th>9</th>\n",
       "      <td>geektimes хабер публиковаться немало статья ра...</td>\n",
       "      <td>0</td>\n",
       "    </tr>\n",
       "  </tbody>\n",
       "</table>\n",
       "</div>"
      ],
      "text/plain": [
       "                                                text class\n",
       "0  последний шесть год пока строить команда проек...     0\n",
       "1  наш время оптический волокно становиться неотъ...     0\n",
       "2  снова здравствовать большой маленький любитель...     0\n",
       "3  большинство человек привыкать chromium  —  это...     0\n",
       "4   “ выживать сильный ,” —  пафосный заявлять вс...     0\n",
       "5  сразу сказать  —  englishdom просто обожать дж...     0\n",
       "6    « создавать решение решать проблема нескольк...     0\n",
       "7  писать ранее приоритетный направление работа н...     0\n",
       "8  речь заходить разработка современный it систем...     0\n",
       "9  geektimes хабер публиковаться немало статья ра...     0"
      ]
     },
     "execution_count": 70,
     "metadata": {},
     "output_type": "execute_result"
    }
   ],
   "source": [
    "df.head(10)"
   ]
  },
  {
   "cell_type": "code",
   "execution_count": 71,
   "metadata": {},
   "outputs": [
    {
     "data": {
      "text/html": [
       "<div>\n",
       "<style scoped>\n",
       "    .dataframe tbody tr th:only-of-type {\n",
       "        vertical-align: middle;\n",
       "    }\n",
       "\n",
       "    .dataframe tbody tr th {\n",
       "        vertical-align: top;\n",
       "    }\n",
       "\n",
       "    .dataframe thead th {\n",
       "        text-align: right;\n",
       "    }\n",
       "</style>\n",
       "<table border=\"1\" class=\"dataframe\">\n",
       "  <thead>\n",
       "    <tr style=\"text-align: right;\">\n",
       "      <th></th>\n",
       "      <th>text</th>\n",
       "      <th>class</th>\n",
       "    </tr>\n",
       "  </thead>\n",
       "  <tbody>\n",
       "    <tr>\n",
       "      <th>0</th>\n",
       "      <td>последний шесть год пока строить команда проек...</td>\n",
       "      <td>0</td>\n",
       "    </tr>\n",
       "    <tr>\n",
       "      <th>1</th>\n",
       "      <td>наш время оптический волокно становиться неотъ...</td>\n",
       "      <td>0</td>\n",
       "    </tr>\n",
       "    <tr>\n",
       "      <th>2</th>\n",
       "      <td>снова здравствовать большой маленький любитель...</td>\n",
       "      <td>0</td>\n",
       "    </tr>\n",
       "    <tr>\n",
       "      <th>3</th>\n",
       "      <td>большинство человек привыкать chromium  —  это...</td>\n",
       "      <td>0</td>\n",
       "    </tr>\n",
       "    <tr>\n",
       "      <th>4</th>\n",
       "      <td>“ выживать сильный ,” —  пафосный заявлять вс...</td>\n",
       "      <td>0</td>\n",
       "    </tr>\n",
       "    <tr>\n",
       "      <th>...</th>\n",
       "      <td>...</td>\n",
       "      <td>...</td>\n",
       "    </tr>\n",
       "    <tr>\n",
       "      <th>95</th>\n",
       "      <td>алексей учитель ингеборга дапкунать съемка фил...</td>\n",
       "      <td>1</td>\n",
       "    </tr>\n",
       "    <tr>\n",
       "      <th>96</th>\n",
       "      <td>дональд трамп позировать подписывать указ выво...</td>\n",
       "      <td>1</td>\n",
       "    </tr>\n",
       "    <tr>\n",
       "      <th>97</th>\n",
       "      <td>краснодарский краевой суд 11 февраль начинатьс...</td>\n",
       "      <td>1</td>\n",
       "    </tr>\n",
       "    <tr>\n",
       "      <th>98</th>\n",
       "      <td>70 российский адвокат девятнадцать регион рф н...</td>\n",
       "      <td>1</td>\n",
       "    </tr>\n",
       "    <tr>\n",
       "      <th>99</th>\n",
       "      <td>2 ноябрь москва былипобъявленыплауреат российс...</td>\n",
       "      <td>1</td>\n",
       "    </tr>\n",
       "  </tbody>\n",
       "</table>\n",
       "<p>100 rows × 2 columns</p>\n",
       "</div>"
      ],
      "text/plain": [
       "                                                 text class\n",
       "0   последний шесть год пока строить команда проек...     0\n",
       "1   наш время оптический волокно становиться неотъ...     0\n",
       "2   снова здравствовать большой маленький любитель...     0\n",
       "3   большинство человек привыкать chromium  —  это...     0\n",
       "4    “ выживать сильный ,” —  пафосный заявлять вс...     0\n",
       "..                                                ...   ...\n",
       "95  алексей учитель ингеборга дапкунать съемка фил...     1\n",
       "96  дональд трамп позировать подписывать указ выво...     1\n",
       "97  краснодарский краевой суд 11 февраль начинатьс...     1\n",
       "98  70 российский адвокат девятнадцать регион рф н...     1\n",
       "99  2 ноябрь москва былипобъявленыплауреат российс...     1\n",
       "\n",
       "[100 rows x 2 columns]"
      ]
     },
     "execution_count": 71,
     "metadata": {},
     "output_type": "execute_result"
    }
   ],
   "source": [
    "df.head(100)"
   ]
  },
  {
   "cell_type": "markdown",
   "metadata": {},
   "source": [
    "### Разбиваем выборку"
   ]
  },
  {
   "cell_type": "code",
   "execution_count": 72,
   "metadata": {},
   "outputs": [],
   "source": [
    "from sklearn.model_selection import train_test_split\n",
    "X_train, X_test, y_train, y_test = train_test_split(df['text'], df['class'], test_size=0.4, stratify=df['class'])"
   ]
  },
  {
   "cell_type": "markdown",
   "metadata": {},
   "source": [
    "## Bag-of-Words-эмбеддинг\n",
    "\n",
    "Понятное дело, работать с чистым текстом математические методы не умеют. Настало время получить эмбеддинги!"
   ]
  },
  {
   "cell_type": "code",
   "execution_count": 73,
   "metadata": {},
   "outputs": [],
   "source": [
    "from sklearn.feature_extraction.text import CountVectorizer\n",
    "bof_vect = CountVectorizer()\n",
    "bof_vect.fit(np.hstack([X_train, X_test]))\n",
    "bof_train = bof_vect.transform(X_train)\n",
    "bof_test = bof_vect.transform(X_test)"
   ]
  },
  {
   "cell_type": "markdown",
   "metadata": {},
   "source": [
    "#### P.s. обучение эмбеддинга проводится на всех данных\n",
    "Посмотрим на вид нашего нового признакового пространства"
   ]
  },
  {
   "cell_type": "code",
   "execution_count": 74,
   "metadata": {},
   "outputs": [
    {
     "data": {
      "text/plain": [
       "array([[0, 0, 0, ..., 0, 1, 0],\n",
       "       [1, 0, 0, ..., 0, 0, 0],\n",
       "       [0, 0, 0, ..., 0, 0, 0],\n",
       "       ...,\n",
       "       [0, 0, 0, ..., 0, 0, 0],\n",
       "       [0, 0, 0, ..., 0, 0, 0],\n",
       "       [0, 0, 0, ..., 0, 0, 0]], dtype=int64)"
      ]
     },
     "execution_count": 74,
     "metadata": {},
     "output_type": "execute_result"
    }
   ],
   "source": [
    "bof_train.toarray()"
   ]
  },
  {
   "cell_type": "code",
   "execution_count": 75,
   "metadata": {},
   "outputs": [
    {
     "data": {
      "text/plain": [
       "(60, 21099)"
      ]
     },
     "execution_count": 75,
     "metadata": {},
     "output_type": "execute_result"
    }
   ],
   "source": [
    "bof_train.toarray().shape"
   ]
  },
  {
   "cell_type": "markdown",
   "metadata": {},
   "source": [
    "## TF-IDF-эмбеддинг"
   ]
  },
  {
   "cell_type": "code",
   "execution_count": 76,
   "metadata": {},
   "outputs": [],
   "source": [
    "from sklearn.feature_extraction.text import TfidfVectorizer\n",
    "tfidf_vect = TfidfVectorizer()\n",
    "tfidf_vect.fit(np.hstack([X_train, X_test]))\n",
    "tfidf_train = tfidf_vect.transform(X_train)\n",
    "tfidf_test = tfidf_vect.transform(X_test)"
   ]
  },
  {
   "cell_type": "code",
   "execution_count": 77,
   "metadata": {},
   "outputs": [
    {
     "data": {
      "text/plain": [
       "array([[0.        , 0.        , 0.        , ..., 0.        , 0.01685264,\n",
       "        0.        ],\n",
       "       [0.01391296, 0.        , 0.        , ..., 0.        , 0.        ,\n",
       "        0.        ],\n",
       "       [0.        , 0.        , 0.        , ..., 0.        , 0.        ,\n",
       "        0.        ],\n",
       "       ...,\n",
       "       [0.        , 0.        , 0.        , ..., 0.        , 0.        ,\n",
       "        0.        ],\n",
       "       [0.        , 0.        , 0.        , ..., 0.        , 0.        ,\n",
       "        0.        ],\n",
       "       [0.        , 0.        , 0.        , ..., 0.        , 0.        ,\n",
       "        0.        ]])"
      ]
     },
     "execution_count": 77,
     "metadata": {},
     "output_type": "execute_result"
    }
   ],
   "source": [
    "tfidf_train.toarray()"
   ]
  },
  {
   "cell_type": "code",
   "execution_count": 78,
   "metadata": {},
   "outputs": [
    {
     "data": {
      "text/plain": [
       "(60, 21099)"
      ]
     },
     "execution_count": 78,
     "metadata": {},
     "output_type": "execute_result"
    }
   ],
   "source": [
    "tfidf_train.toarray().shape"
   ]
  },
  {
   "cell_type": "markdown",
   "metadata": {},
   "source": [
    "## Word2vec-эмбеддинг\n",
    "Поскольку w2v - это не sklearn'овский классификатор, он на выходе выдаст данные немного другого вида, и это надо будет учитывать в дальнейшей работе"
   ]
  },
  {
   "cell_type": "code",
   "execution_count": 79,
   "metadata": {},
   "outputs": [],
   "source": [
    "from gensim.models import Word2Vec\n",
    "X_train_w2v = X_train.apply(str.split)\n",
    "X_test_w2v = X_test.apply(str.split)\n",
    "w2v_vect = Word2Vec(np.hstack([X_train_w2v, X_test_w2v]), size=300, min_count=10, workers=8)"
   ]
  },
  {
   "cell_type": "code",
   "execution_count": 80,
   "metadata": {},
   "outputs": [
    {
     "data": {
      "text/plain": [
       "72    [2011, –, 2012, год, становиться, известно, ма...\n",
       "5     [сразу, сказать, —, englishdom, просто, обожат...\n",
       "22    [сегодняшний, время, расти, потребность, дизай...\n",
       "98    [70, российский, адвокат, девятнадцать, регион...\n",
       "69    [googlenобъявилnо, масштабный, обновление, сер...\n",
       "29    [автор, статья, буфер, поток, двоичный, данные...\n",
       "21    [вступление, помощь, расширение, мочь, создава...\n",
       "66    [январь, апрель, 2015, год, количество, безраб...\n",
       "82    [москва, февральский, революция, 1917, год, ка...\n",
       "64    [«, наш, журналист, сидеть, тюрьма, пять, меся...\n",
       "33    [публиковать, первый, часть, перевод, руководс...\n",
       "86    [высокий, школа, экономика, нередкоnобвиняютnв...\n",
       "37    [привет, звать, дядиченко, григорий, основател...\n",
       "78    [последний, несколько, месяц, дагестан, закрыв...\n",
       "88    [житель, грозный, саид, мажаев, проводить, иги...\n",
       "13    [привет, gt, несколько, месяц, назад, писать, ...\n",
       "65    [пионерский, линейка, 35, м, лицей, новокузнец...\n",
       "40    [статья, хотеть, поделиться, размышление, архи...\n",
       "27    [наш, прошлое, материал, посвящать, перевод, ч...\n",
       "32    [привет, хабр, последний, время, вернуться, тщ...\n",
       "34    [неделя, рунет, шуметь, telegram, ситуация, бе...\n",
       "11    [привет, звать, людмила, заниматься, нагрузочн...\n",
       "70    [санкт-петербург, лгбт, фестиваль, «, бок, бок...\n",
       "54    [киев, середина, июнь, решилипрасформироватьпо...\n",
       "76    [прошлый, неделя, украинский, президент, петр,...\n",
       "19    [ноябрь, 2017, год, календарь, отображаться, ч...\n",
       "59    [июль, издательство, corpus, выходить, книга, ...\n",
       "55    [армения, —, впервые, новый, история, страна, ...\n",
       "4     [“, выживать, сильный, ,”, —, пафосный, заявля...\n",
       "36    [сторонний, наблюдатель, sharp, основной, изве...\n",
       "1     [наш, время, оптический, волокно, становиться,...\n",
       "77    [30, июль, 1937, год, выходить, секретный, при...\n",
       "80    [алексей, филиппов, 2018, годпбывший, сотрудни...\n",
       "75    [госдума, одобрять, первый, чтение, поправка, ...\n",
       "7     [писать, ранее, приоритетный, направление, раб...\n",
       "94    [17, сентябрь, «, медуза, », опубликовалапрасс...\n",
       "50    [23, апрель, 2017, год, ютьюбе, запуститься, «...\n",
       "28    [статья, хотеть, рассказывать, просто, обновля...\n",
       "38    [конец, февраль, запускать, новый, формат, вст...\n",
       "44    [добро, electron, —, забавный, штука, который,...\n",
       "67    [«, медуза, », 17, июль, попросить, читатель, ...\n",
       "48    [привет, хабр, это, наш, первый, пост, корпора...\n",
       "89    [последний, год, видеоблога, россия, превращат...\n",
       "3     [большинство, человек, привыкать, chromium, —,...\n",
       "18    [язык, erlang, известный, очень, широко, хотя,...\n",
       "62    [пациент, реабилитационный, центр, фонд, «, го...\n",
       "74    [ричард, брэнсон, —, самый, известный, бизнесм...\n",
       "49    [соавтор, статья, mike, cheng, google, cloud, ...\n",
       "60    [c, 28, ноябрь, 2, декабрь, москва, пройти, еж...\n",
       "20    [компьютерный, график, —, обширный, быстроразв...\n",
       "92    [предварительный, выборы, московский, городско...\n",
       "17    [привет, хабр, какой-то, время, назад, человек...\n",
       "47    [следовать, традиция, выпускать, новый, версия...\n",
       "24    [решать, как-то, перевести, свой, проект, visu...\n",
       "97    [краснодарский, краевой, суд, 11, февраль, нач...\n",
       "93    [журналистка, писательница, линор, горалик, за...\n",
       "99    [2, ноябрь, москва, былипобъявленыплауреат, ро...\n",
       "61    [алексей, ивановnв, январь, «, редакция, елена...\n",
       "43    [​, вступление, идентификация, jwt, json, web,...\n",
       "14    [сколько, находить, применение, дронов, привык...\n",
       "Name: text, dtype: object"
      ]
     },
     "execution_count": 80,
     "metadata": {},
     "output_type": "execute_result"
    }
   ],
   "source": [
    "X_train_w2v"
   ]
  },
  {
   "cell_type": "code",
   "execution_count": 81,
   "metadata": {},
   "outputs": [
    {
     "name": "stderr",
     "output_type": "stream",
     "text": [
      "<ipython-input-81-f59055bd3cb6>:1: DeprecationWarning: Call to deprecated `__getitem__` (Method will be removed in 4.0.0, use self.wv.__getitem__() instead).\n",
      "  w2v_vect['трамп']\n"
     ]
    },
    {
     "data": {
      "text/plain": [
       "array([-0.05663023,  0.0267729 , -0.2518072 ,  0.02021483,  0.17844947,\n",
       "       -0.12992164, -0.06433745, -0.05007831,  0.14100339,  0.10468889,\n",
       "       -0.06733984,  0.13827683,  0.09828866, -0.0032643 , -0.09810451,\n",
       "        0.02255901, -0.13599302, -0.14709651, -0.1788689 ,  0.007878  ,\n",
       "        0.03676586,  0.29272285, -0.09207076, -0.12352399, -0.06985688,\n",
       "        0.06694426,  0.01146561,  0.03483351,  0.10493054,  0.05905547,\n",
       "        0.20573688, -0.14005396,  0.0455571 , -0.22241738, -0.01301525,\n",
       "        0.10373744, -0.06307302, -0.0541239 , -0.07645877, -0.13394845,\n",
       "        0.0204288 , -0.03654367,  0.14426123,  0.04481517, -0.2807636 ,\n",
       "       -0.10603178, -0.04279306,  0.25659272, -0.00270512,  0.15349193,\n",
       "        0.17119285,  0.07186881,  0.04173044, -0.01643032,  0.11220619,\n",
       "       -0.03719156,  0.03673344, -0.15525469,  0.17702152,  0.10999651,\n",
       "        0.14337866, -0.08434441, -0.14206623, -0.18132105, -0.1472576 ,\n",
       "       -0.07865372,  0.05111909,  0.08450539,  0.11186815,  0.06863371,\n",
       "        0.08242263,  0.07126059, -0.06925775,  0.06457298,  0.02583391,\n",
       "        0.16437429, -0.00780072,  0.14676966, -0.170139  ,  0.17818362,\n",
       "       -0.04664084,  0.04417877,  0.06803092,  0.09079834, -0.17560425,\n",
       "        0.01935258,  0.08985179, -0.06432623,  0.04472699, -0.02517457,\n",
       "        0.11540905,  0.08931228, -0.06942183,  0.14897698, -0.02385537,\n",
       "       -0.16120201, -0.17115822, -0.01708362,  0.02537606,  0.03281623,\n",
       "        0.0564334 ,  0.12620445,  0.07834981,  0.04430392, -0.06645785,\n",
       "       -0.00293896,  0.0459207 ,  0.00865263,  0.0283832 , -0.03370819,\n",
       "       -0.24935378,  0.07943522, -0.13180012, -0.02051318,  0.07376421,\n",
       "       -0.08675707,  0.07784141,  0.01142318,  0.08709241,  0.194754  ,\n",
       "       -0.17717126, -0.09730946, -0.06153397,  0.05473189, -0.15580218,\n",
       "        0.01390124,  0.14175962,  0.07439674,  0.14662217, -0.08221025,\n",
       "       -0.2654003 , -0.31168967, -0.05369442, -0.09495386,  0.04456325,\n",
       "       -0.09008206, -0.18796688,  0.07194418, -0.09306716, -0.07962167,\n",
       "        0.15602517, -0.11522164, -0.12310909, -0.25607848,  0.12057349,\n",
       "        0.07160368, -0.03772794, -0.07017194, -0.18841383,  0.01629778,\n",
       "        0.00854795, -0.01235256, -0.11799221, -0.06060663, -0.07868505,\n",
       "       -0.10377543,  0.09810024, -0.0298364 , -0.14582469, -0.05328669,\n",
       "       -0.02582809, -0.05043042,  0.08078457, -0.25131422,  0.10392454,\n",
       "        0.00219268,  0.13899991, -0.0376534 ,  0.23305328,  0.16642238,\n",
       "       -0.08965646,  0.05480305, -0.14919832, -0.16208085, -0.00867348,\n",
       "       -0.17816801,  0.03415741,  0.2054589 ,  0.23753959,  0.13980559,\n",
       "       -0.04224598,  0.06866431, -0.10843422, -0.08484285, -0.0672631 ,\n",
       "       -0.07464499, -0.14756708,  0.12365056, -0.0730686 ,  0.06047506,\n",
       "       -0.02065318,  0.11648699,  0.16001871, -0.05399136, -0.08903664,\n",
       "       -0.02794209, -0.24811576,  0.06830076, -0.04274063,  0.08289963,\n",
       "       -0.0281674 , -0.05150687, -0.12919843,  0.00271859, -0.0031783 ,\n",
       "       -0.1631524 , -0.00102978, -0.06199073,  0.07432099, -0.06298743,\n",
       "       -0.00171708,  0.09450253, -0.03173849,  0.02017888,  0.03001899,\n",
       "       -0.04336553, -0.01253264, -0.13232242,  0.09233966,  0.03608098,\n",
       "       -0.16769524,  0.14140117,  0.06883577,  0.03589693, -0.08502053,\n",
       "        0.14324644,  0.01528138,  0.022762  , -0.07236341, -0.01498854,\n",
       "       -0.04865381, -0.06444609, -0.12037972, -0.08981638,  0.15811758,\n",
       "       -0.06159325,  0.01982281,  0.15438877,  0.1086441 ,  0.01502523,\n",
       "       -0.08469564, -0.1839501 ,  0.08750304, -0.09654215, -0.06428076,\n",
       "        0.31101373, -0.08353385, -0.11168706,  0.22529681, -0.1961194 ,\n",
       "       -0.12947518,  0.2873666 ,  0.08660385,  0.04644625, -0.06529243,\n",
       "       -0.19391169,  0.03810376,  0.21066685,  0.18179284,  0.08038839,\n",
       "       -0.12298506,  0.01493706,  0.08201878,  0.05178179,  0.13024746,\n",
       "       -0.03716038,  0.06723543, -0.18556844, -0.03847746,  0.10219564,\n",
       "        0.12846737, -0.01937396, -0.0816694 ,  0.01521443, -0.03182721,\n",
       "       -0.06076353, -0.00044131, -0.12304777, -0.08160353,  0.04529008,\n",
       "       -0.05861577,  0.05963161, -0.07753097,  0.0072906 , -0.05577974,\n",
       "       -0.06257302, -0.09108869, -0.18560666, -0.00372412,  0.0475391 ,\n",
       "        0.23263071,  0.20294534,  0.05042401, -0.12515149,  0.22639897,\n",
       "       -0.07227845, -0.04216269, -0.15331855, -0.01679857, -0.06534753],\n",
       "      dtype=float32)"
      ]
     },
     "execution_count": 81,
     "metadata": {},
     "output_type": "execute_result"
    }
   ],
   "source": [
    "w2v_vect['трамп']"
   ]
  },
  {
   "cell_type": "code",
   "execution_count": 82,
   "metadata": {},
   "outputs": [
    {
     "name": "stderr",
     "output_type": "stream",
     "text": [
      "<ipython-input-82-2f9c77173d54>:1: DeprecationWarning: Call to deprecated `most_similar` (Method will be removed in 4.0.0, use self.wv.most_similar() instead).\n",
      "  w2v_vect.most_similar(positive=\"трамп\")\n"
     ]
    },
    {
     "data": {
      "text/plain": [
       "[('участок', 0.9999397993087769),\n",
       " ('ттп', 0.9999389052391052),\n",
       " ('условие', 0.9999358654022217),\n",
       " ('следовать', 0.9999343156814575),\n",
       " ('китайский', 0.999934196472168),\n",
       " ('сша', 0.9999333620071411),\n",
       " ('замечать', 0.9999326467514038),\n",
       " ('немного', 0.9999325275421143),\n",
       " ('официальный', 0.999932050704956),\n",
       " ('12', 0.9999310970306396)]"
      ]
     },
     "execution_count": 82,
     "metadata": {},
     "output_type": "execute_result"
    }
   ],
   "source": [
    "w2v_vect.most_similar(positive=\"трамп\")"
   ]
  },
  {
   "cell_type": "markdown",
   "metadata": {},
   "source": [
    "![title](mem/4.jpg)"
   ]
  },
  {
   "cell_type": "markdown",
   "metadata": {},
   "source": [
    "### Преобразуем тексты в вектора - возьмем сумму векторов всех слов, которые входят в песню"
   ]
  },
  {
   "cell_type": "code",
   "execution_count": 84,
   "metadata": {},
   "outputs": [
    {
     "name": "stderr",
     "output_type": "stream",
     "text": [
      "<ipython-input-84-c817aeec8a46>:8: DeprecationWarning: Call to deprecated `__getitem__` (Method will be removed in 4.0.0, use self.wv.__getitem__() instead).\n",
      "  vecs.append(w2v_vect[word])\n"
     ]
    },
    {
     "data": {
      "text/plain": [
       "72    [-0.07342067, 0.029555602, -0.31997225, 0.0208...\n",
       "5     [-0.07663641, 0.028607668, -0.33908632, 0.0131...\n",
       "22    [-0.06582407, 0.031231662, -0.29370406, 0.0241...\n",
       "98    [-0.07379555, 0.029277638, -0.32174766, 0.0210...\n",
       "69    [-0.0769353, 0.030975403, -0.3323311, 0.027140...\n",
       "29    [-0.06821059, 0.032395855, -0.30660748, 0.0236...\n",
       "21    [-0.06717521, 0.03946428, -0.30950722, 0.02130...\n",
       "66    [-0.07687815, 0.029512895, -0.32884148, 0.0252...\n",
       "82    [-0.075532846, 0.029392317, -0.32421798, 0.025...\n",
       "64    [-0.07697492, 0.028461708, -0.33281147, 0.0186...\n",
       "33    [-0.06597941, 0.033077337, -0.29914758, 0.0256...\n",
       "86    [-0.0787365, 0.029827945, -0.33759937, 0.02494...\n",
       "37    [-0.06249801, 0.038426787, -0.2920328, 0.02029...\n",
       "78    [-0.076828346, 0.027426064, -0.3329056, 0.0154...\n",
       "88    [-0.07177265, 0.027785892, -0.3140705, 0.01638...\n",
       "13    [-0.0704015, 0.03027149, -0.30831265, 0.024204...\n",
       "65    [-0.07764216, 0.027274707, -0.3335789, 0.01833...\n",
       "40    [-0.06436802, 0.031920843, -0.28967956, 0.0248...\n",
       "27    [-0.06846274, 0.030227575, -0.30403674, 0.0209...\n",
       "32    [-0.065213986, 0.034299213, -0.29602307, 0.025...\n",
       "34    [-0.06892417, 0.030951696, -0.3051649, 0.02548...\n",
       "11    [-0.06652148, 0.03309184, -0.29975712, 0.02446...\n",
       "70    [-0.083717376, 0.029683243, -0.3581524, 0.0249...\n",
       "54    [-0.07311036, 0.027603723, -0.32160223, 0.0124...\n",
       "76    [-0.07452184, 0.03005919, -0.32234675, 0.01938...\n",
       "19    [-0.061246075, 0.030604316, -0.27562287, 0.023...\n",
       "59    [-0.07283022, 0.027714893, -0.3171609, 0.01640...\n",
       "55    [-0.07249947, 0.0289774, -0.31477854, 0.020674...\n",
       "4     [-0.069704, 0.030551976, -0.3033862, 0.0253813...\n",
       "36    [-0.064040914, 0.028268317, -0.28639737, 0.018...\n",
       "1     [-0.062915765, 0.030074216, -0.28097674, 0.022...\n",
       "77    [-0.071104035, 0.029615063, -0.30799714, 0.024...\n",
       "80    [-0.07486047, 0.028027656, -0.3248081, 0.01767...\n",
       "75    [-0.07938052, 0.028771717, -0.3464276, 0.01442...\n",
       "7     [-0.06416944, 0.029675886, -0.28561673, 0.0221...\n",
       "94    [-0.07437831, 0.02890868, -0.3235999, 0.021044...\n",
       "50    [-0.08817739, 0.028245222, -0.36997908, 0.0273...\n",
       "28    [-0.060577877, 0.037883233, -0.28420174, 0.018...\n",
       "38    [-0.0681755, 0.032583784, -0.30627358, 0.02264...\n",
       "44    [-0.061432768, 0.032666277, -0.28003675, 0.021...\n",
       "67    [-0.06897053, 0.029032946, -0.30284148, 0.0204...\n",
       "48    [-0.0699432, 0.031603757, -0.31144157, 0.02351...\n",
       "89    [-0.075164706, 0.028625924, -0.32507488, 0.020...\n",
       "3     [-0.061686784, 0.036961414, -0.28493345, 0.022...\n",
       "18    [-0.066709675, 0.03195749, -0.29783887, 0.0260...\n",
       "62    [-0.07836472, 0.029071225, -0.342315, 0.015094...\n",
       "74    [-0.07320917, 0.029581312, -0.32127056, 0.0206...\n",
       "49    [-0.06509655, 0.03186218, -0.29034308, 0.02500...\n",
       "60    [-0.07014373, 0.028865624, -0.30722117, 0.0193...\n",
       "20    [-0.062871985, 0.031833354, -0.28363493, 0.023...\n",
       "92    [-0.0758017, 0.029468926, -0.33136016, 0.01634...\n",
       "17    [-0.06582184, 0.030951768, -0.29562673, 0.0237...\n",
       "47    [-0.06108527, 0.033926558, -0.28053567, 0.0220...\n",
       "24    [-0.06368524, 0.030389035, -0.28368676, 0.0207...\n",
       "97    [-0.07355502, 0.029963085, -0.3203491, 0.02100...\n",
       "93    [-0.08055218, 0.029029958, -0.34456107, 0.0246...\n",
       "99    [-0.0770679, 0.029485041, -0.3308477, 0.023516...\n",
       "61    [-0.07185602, 0.026822068, -0.3061226, 0.02406...\n",
       "43    [-0.0614949, 0.033375848, -0.28095648, 0.02198...\n",
       "14    [-0.066079155, 0.030673346, -0.29166597, 0.025...\n",
       "Name: text, dtype: object"
      ]
     },
     "execution_count": 84,
     "metadata": {},
     "output_type": "execute_result"
    }
   ],
   "source": [
    "import numpy as np\n",
    "\n",
    "def text2vec(text):\n",
    "    \"\"\"Усредняем векторы слов\"\"\"\n",
    "    vecs = []\n",
    "    for word in text:\n",
    "        try:\n",
    "            vecs.append(w2v_vect[word])\n",
    "        except KeyError:\n",
    "            pass\n",
    "    return np.sum(vecs, axis=0) / len(vecs)\n",
    "\n",
    "w2v_train = X_train_w2v.apply(text2vec)\n",
    "w2v_test = X_test_w2v.apply(text2vec)\n",
    "w2v_train"
   ]
  },
  {
   "cell_type": "code",
   "execution_count": 85,
   "metadata": {},
   "outputs": [
    {
     "data": {
      "text/plain": [
       "(60,)"
      ]
     },
     "execution_count": 85,
     "metadata": {},
     "output_type": "execute_result"
    }
   ],
   "source": [
    "w2v_train.shape"
   ]
  },
  {
   "cell_type": "code",
   "execution_count": 88,
   "metadata": {},
   "outputs": [
    {
     "data": {
      "text/plain": [
       "array([-0.11543111, -0.11334921, -0.11346527, -0.11615738, -0.12260513,\n",
       "       -0.11718865, -0.12233861, -0.11974635, -0.11869654, -0.11557027,\n",
       "       -0.11831896, -0.12165917, -0.11471997, -0.11276928, -0.10983162,\n",
       "       -0.11504263, -0.11410588, -0.1139378 , -0.11298995, -0.11763117,\n",
       "       -0.11515383, -0.1166139 , -0.12588689, -0.1090721 , -0.11620148,\n",
       "       -0.10850858, -0.11026835, -0.11352786, -0.11569104, -0.10514458,\n",
       "       -0.10739814, -0.11522153, -0.112988  , -0.11728073, -0.10922539,\n",
       "       -0.11611531, -0.1271126 , -0.11072429, -0.11622548, -0.1088185 ,\n",
       "       -0.11108242, -0.11771754, -0.11519077, -0.11300235, -0.11706272,\n",
       "       -0.11698947, -0.11598434, -0.11428291, -0.11100403, -0.11080822,\n",
       "       -0.1153294 , -0.11336215, -0.11046938, -0.10787139, -0.1165375 ,\n",
       "       -0.12241501, -0.11905839, -0.11032442, -0.11012229, -0.11289795],\n",
       "      dtype=float32)"
      ]
     },
     "execution_count": 88,
     "metadata": {},
     "output_type": "execute_result"
    }
   ],
   "source": [
    "w2v_train[14]"
   ]
  },
  {
   "cell_type": "code",
   "execution_count": 87,
   "metadata": {},
   "outputs": [
    {
     "data": {
      "text/plain": [
       "(300, 60)"
      ]
     },
     "execution_count": 87,
     "metadata": {},
     "output_type": "execute_result"
    }
   ],
   "source": [
    "w2v_train = np.dstack(w2v_train)[0]\n",
    "w2v_train.shape"
   ]
  },
  {
   "cell_type": "code",
   "execution_count": 89,
   "metadata": {},
   "outputs": [],
   "source": [
    "w2v_test = np.dstack(w2v_test)[0]"
   ]
  },
  {
   "cell_type": "markdown",
   "metadata": {},
   "source": [
    "## Классификация текстов\n",
    "Теперь у нас есть классическое признаковое описание каждого текста. Можем обучать классификаторы или придумать еще какую-то метрику.\n",
    "\n",
    "Давайте вычислим для каждого эмбеддинга по два суммарных вектора - для текстов медузы и для текстов хабра. \n",
    "### Для Bag of Words:"
   ]
  },
  {
   "cell_type": "code",
   "execution_count": 90,
   "metadata": {},
   "outputs": [
    {
     "data": {
      "text/plain": [
       "(1, 21099)"
      ]
     },
     "execution_count": 90,
     "metadata": {},
     "output_type": "execute_result"
    }
   ],
   "source": [
    "habr_mean_bof = np.sum(bof_train[y_train == 0], axis=0)\n",
    "habr_mean_bof.shape"
   ]
  },
  {
   "cell_type": "code",
   "execution_count": 91,
   "metadata": {},
   "outputs": [],
   "source": [
    "meduza_mean_bof = np.sum(bof_train[y_train == 1], axis=0)"
   ]
  },
  {
   "cell_type": "markdown",
   "metadata": {},
   "source": [
    "### Для TF-IDF"
   ]
  },
  {
   "cell_type": "code",
   "execution_count": 92,
   "metadata": {},
   "outputs": [
    {
     "data": {
      "text/plain": [
       "(1, 21099)"
      ]
     },
     "execution_count": 92,
     "metadata": {},
     "output_type": "execute_result"
    }
   ],
   "source": [
    "habr_mean_tfidf = np.sum(tfidf_train[y_train == 0], axis=0)\n",
    "habr_mean_tfidf.shape"
   ]
  },
  {
   "cell_type": "code",
   "execution_count": 93,
   "metadata": {},
   "outputs": [],
   "source": [
    "meduza_mean_tfidf = np.sum(tfidf_train[y_train == 1], axis=0)"
   ]
  },
  {
   "cell_type": "markdown",
   "metadata": {},
   "source": [
    "### Для Word2Vec"
   ]
  },
  {
   "cell_type": "code",
   "execution_count": 94,
   "metadata": {},
   "outputs": [
    {
     "data": {
      "text/plain": [
       "(300,)"
      ]
     },
     "execution_count": 94,
     "metadata": {},
     "output_type": "execute_result"
    }
   ],
   "source": [
    "habr_mean_w2v = np.sum(w2v_train[:, y_train == 0], axis=1)\n",
    "habr_mean_w2v.shape"
   ]
  },
  {
   "cell_type": "code",
   "execution_count": 95,
   "metadata": {},
   "outputs": [],
   "source": [
    "meduza_mean_w2v = np.sum(w2v_train[:, y_train == 1], axis=1)"
   ]
  },
  {
   "cell_type": "markdown",
   "metadata": {},
   "source": [
    "### Посмотрим на их вид"
   ]
  },
  {
   "cell_type": "code",
   "execution_count": 97,
   "metadata": {},
   "outputs": [
    {
     "data": {
      "text/plain": [
       "matrix([[2, 9, 1, ..., 3, 0, 0]], dtype=int64)"
      ]
     },
     "execution_count": 97,
     "metadata": {},
     "output_type": "execute_result"
    }
   ],
   "source": [
    "habr_mean_bof"
   ]
  },
  {
   "cell_type": "code",
   "execution_count": 98,
   "metadata": {},
   "outputs": [
    {
     "data": {
      "text/plain": [
       "matrix([[0.02339897, 0.11521096, 0.01485279, ..., 0.03265981, 0.        ,\n",
       "         0.        ]])"
      ]
     },
     "execution_count": 98,
     "metadata": {},
     "output_type": "execute_result"
    }
   ],
   "source": [
    "habr_mean_tfidf"
   ]
  },
  {
   "cell_type": "code",
   "execution_count": 99,
   "metadata": {},
   "outputs": [
    {
     "data": {
      "text/plain": [
       "array([-1.96695244e+00,  9.69808996e-01, -8.84623528e+00,  6.81772768e-01,\n",
       "        6.18617916e+00, -4.60914707e+00, -2.38139534e+00, -1.84322011e+00,\n",
       "        5.03453541e+00,  3.65532970e+00, -2.36784506e+00,  4.69951010e+00,\n",
       "        3.33283353e+00, -3.36447582e-02, -3.40008235e+00,  8.43577147e-01,\n",
       "       -4.71773958e+00, -5.00152063e+00, -6.20042133e+00,  2.57354051e-01,\n",
       "        1.25473750e+00,  1.00752439e+01, -3.28375411e+00, -4.38841486e+00,\n",
       "       -2.48194337e+00,  2.22114778e+00,  4.33881193e-01,  1.16467559e+00,\n",
       "        3.59860873e+00,  1.90778410e+00,  7.16221571e+00, -4.95813990e+00,\n",
       "        1.68194556e+00, -7.53044701e+00, -4.27162468e-01,  3.66018867e+00,\n",
       "       -2.16110563e+00, -1.86531198e+00, -2.58931494e+00, -4.70568657e+00,\n",
       "        7.45084643e-01, -1.28393912e+00,  4.93742895e+00,  1.55386841e+00,\n",
       "       -9.65359211e+00, -3.54606628e+00, -1.40921867e+00,  8.75501442e+00,\n",
       "       -8.22405815e-02,  5.41082048e+00,  6.04150581e+00,  2.39184260e+00,\n",
       "        1.45889139e+00, -5.72933614e-01,  3.83886170e+00, -1.28175640e+00,\n",
       "        1.34191847e+00, -5.33122492e+00,  6.03266430e+00,  3.84539437e+00,\n",
       "        5.10028982e+00, -2.85957670e+00, -5.02014875e+00, -6.22836542e+00,\n",
       "       -5.03669739e+00, -2.68305039e+00,  1.76280522e+00,  2.95951819e+00,\n",
       "        3.96636748e+00,  2.36781025e+00,  2.89485121e+00,  2.52254152e+00,\n",
       "       -2.51221538e+00,  2.32069969e+00,  9.45837259e-01,  5.73931837e+00,\n",
       "       -3.63695383e-01,  5.21630621e+00, -5.97703123e+00,  6.07252789e+00,\n",
       "       -1.49024904e+00,  1.52513206e+00,  2.48574209e+00,  3.09547710e+00,\n",
       "       -6.13384342e+00,  7.53514886e-01,  3.02709532e+00, -2.15771294e+00,\n",
       "        1.61071301e+00, -8.93826306e-01,  3.97649765e+00,  3.16221523e+00,\n",
       "       -2.38606048e+00,  5.05718565e+00, -8.65906179e-01, -5.61686182e+00,\n",
       "       -5.94710732e+00, -7.19045997e-01,  8.40876818e-01,  1.10464525e+00,\n",
       "        1.92919290e+00,  4.40308666e+00,  2.57587290e+00,  1.53102446e+00,\n",
       "       -2.36762166e+00,  2.63577085e-02,  1.61815369e+00,  2.13539898e-01,\n",
       "        9.26051795e-01, -1.18246078e+00, -8.58617115e+00,  2.56919432e+00,\n",
       "       -4.59082127e+00, -7.24095702e-01,  2.56674814e+00, -3.00433111e+00,\n",
       "        2.70620584e+00,  4.36899662e-01,  3.01828194e+00,  6.70589447e+00,\n",
       "       -6.09428167e+00, -3.32629752e+00, -2.14755368e+00,  1.94530833e+00,\n",
       "       -5.43311167e+00,  4.89540964e-01,  4.85181570e+00,  2.53921008e+00,\n",
       "        5.06573391e+00, -2.88148594e+00, -9.19741821e+00, -1.07781658e+01,\n",
       "       -1.86742246e+00, -3.26659608e+00,  1.57120860e+00, -3.22188258e+00,\n",
       "       -6.52316236e+00,  2.50890636e+00, -3.16620922e+00, -2.76796913e+00,\n",
       "        5.40694523e+00, -3.99869561e+00, -4.24906731e+00, -9.00915241e+00,\n",
       "        4.16670370e+00,  2.51340365e+00, -1.27335274e+00, -2.42071247e+00,\n",
       "       -6.55056143e+00,  6.40833080e-01,  4.00440902e-01, -3.42494398e-01,\n",
       "       -4.10514212e+00, -2.17290139e+00, -2.79276276e+00, -3.64038348e+00,\n",
       "        3.50357485e+00, -8.68094563e-01, -5.05719137e+00, -1.86550689e+00,\n",
       "       -8.89165223e-01, -1.83714402e+00,  2.77340269e+00, -8.66099453e+00,\n",
       "        3.53149533e+00, -8.29652511e-03,  4.68771744e+00, -1.33658421e+00,\n",
       "        8.10156918e+00,  5.77093410e+00, -3.09404564e+00,  1.96759629e+00,\n",
       "       -5.22888613e+00, -5.68681097e+00, -2.70435780e-01, -6.15627241e+00,\n",
       "        1.14976811e+00,  7.07657623e+00,  8.29293060e+00,  4.80543280e+00,\n",
       "       -1.27124989e+00,  2.42444134e+00, -3.66510129e+00, -2.96133995e+00,\n",
       "       -2.32874012e+00, -2.54586101e+00, -5.15210342e+00,  4.33000612e+00,\n",
       "       -2.47144198e+00,  2.06038761e+00, -5.72842658e-01,  3.96991801e+00,\n",
       "        5.41079330e+00, -1.87686777e+00, -3.00549006e+00, -9.91239965e-01,\n",
       "       -8.65910912e+00,  2.50074697e+00, -1.67551148e+00,  2.93566871e+00,\n",
       "       -1.02608943e+00, -1.79037225e+00, -4.57993126e+00,  1.44097107e-02,\n",
       "       -1.97051644e-01, -5.67398882e+00, -2.13105127e-01, -2.16216755e+00,\n",
       "        2.60135126e+00, -2.20765495e+00,  1.99996810e-02,  3.32638240e+00,\n",
       "       -1.10641813e+00,  6.80230677e-01,  8.39639902e-01, -1.58800566e+00,\n",
       "       -3.42409045e-01, -4.49228096e+00,  3.28728843e+00,  1.32865417e+00,\n",
       "       -5.74460840e+00,  4.84926271e+00,  2.29487467e+00,  1.37646174e+00,\n",
       "       -3.01302457e+00,  4.96747780e+00,  5.75890839e-01,  7.87849486e-01,\n",
       "       -2.50960565e+00, -5.15883923e-01, -1.75260270e+00, -2.24148297e+00,\n",
       "       -4.26158762e+00, -2.99541235e+00,  5.50591183e+00, -2.13836360e+00,\n",
       "        6.01148367e-01,  5.33116436e+00,  3.80490947e+00,  5.22411346e-01,\n",
       "       -2.86303949e+00, -6.37447453e+00,  2.91788602e+00, -3.21054959e+00,\n",
       "       -2.20253420e+00,  1.08345633e+01, -2.84718394e+00, -3.87318945e+00,\n",
       "        7.74894810e+00, -6.77781487e+00, -4.52162933e+00,  9.89006519e+00,\n",
       "        2.83757377e+00,  1.60160887e+00, -2.32799482e+00, -6.78917408e+00,\n",
       "        1.11304891e+00,  7.34632587e+00,  6.32792377e+00,  2.85273480e+00,\n",
       "       -4.22353363e+00,  5.83792865e-01,  2.83934331e+00,  1.76860023e+00,\n",
       "        4.50684500e+00, -1.17706275e+00,  2.22661185e+00, -6.38328266e+00,\n",
       "       -1.39594936e+00,  3.67873669e+00,  4.43794012e+00, -7.69232035e-01,\n",
       "       -2.84960961e+00,  4.85888362e-01, -1.19564009e+00, -2.13471007e+00,\n",
       "        1.01390205e-01, -4.20662832e+00, -2.92336583e+00,  1.52130413e+00,\n",
       "       -1.98737681e+00,  1.95565677e+00, -2.66572690e+00,  2.48657092e-01,\n",
       "       -1.95470011e+00, -2.13589025e+00, -3.12339997e+00, -6.43970633e+00,\n",
       "       -6.85289726e-02,  1.53660965e+00,  8.12402916e+00,  7.10723925e+00,\n",
       "        1.71024752e+00, -4.27550459e+00,  7.79639959e+00, -2.48402500e+00,\n",
       "       -1.47383320e+00, -5.29165554e+00, -4.97704417e-01, -2.14668250e+00],\n",
       "      dtype=float32)"
      ]
     },
     "execution_count": 99,
     "metadata": {},
     "output_type": "execute_result"
    }
   ],
   "source": [
    "habr_mean_w2v"
   ]
  },
  {
   "cell_type": "markdown",
   "metadata": {},
   "source": [
    "### А теперь построим датафреймы с результатами классификации тестовых текстов. Будем считать, что текст относится к тому издательству, с которым его косинусное расстояние больше"
   ]
  },
  {
   "cell_type": "code",
   "execution_count": 100,
   "metadata": {},
   "outputs": [
    {
     "data": {
      "text/html": [
       "<div>\n",
       "<style scoped>\n",
       "    .dataframe tbody tr th:only-of-type {\n",
       "        vertical-align: middle;\n",
       "    }\n",
       "\n",
       "    .dataframe tbody tr th {\n",
       "        vertical-align: top;\n",
       "    }\n",
       "\n",
       "    .dataframe thead th {\n",
       "        text-align: right;\n",
       "    }\n",
       "</style>\n",
       "<table border=\"1\" class=\"dataframe\">\n",
       "  <thead>\n",
       "    <tr style=\"text-align: right;\">\n",
       "      <th></th>\n",
       "      <th>habr</th>\n",
       "      <th>meduza</th>\n",
       "      <th>predict</th>\n",
       "      <th>class</th>\n",
       "    </tr>\n",
       "  </thead>\n",
       "  <tbody>\n",
       "    <tr>\n",
       "      <th>0</th>\n",
       "      <td>0.639532</td>\n",
       "      <td>0.610217</td>\n",
       "      <td>0.0</td>\n",
       "      <td>0.0</td>\n",
       "    </tr>\n",
       "    <tr>\n",
       "      <th>1</th>\n",
       "      <td>0.440648</td>\n",
       "      <td>0.515293</td>\n",
       "      <td>1.0</td>\n",
       "      <td>0.0</td>\n",
       "    </tr>\n",
       "    <tr>\n",
       "      <th>2</th>\n",
       "      <td>0.523431</td>\n",
       "      <td>0.678947</td>\n",
       "      <td>1.0</td>\n",
       "      <td>0.0</td>\n",
       "    </tr>\n",
       "    <tr>\n",
       "      <th>3</th>\n",
       "      <td>0.705463</td>\n",
       "      <td>0.546877</td>\n",
       "      <td>0.0</td>\n",
       "      <td>1.0</td>\n",
       "    </tr>\n",
       "    <tr>\n",
       "      <th>4</th>\n",
       "      <td>0.548292</td>\n",
       "      <td>0.619590</td>\n",
       "      <td>1.0</td>\n",
       "      <td>0.0</td>\n",
       "    </tr>\n",
       "    <tr>\n",
       "      <th>5</th>\n",
       "      <td>0.697323</td>\n",
       "      <td>0.522043</td>\n",
       "      <td>0.0</td>\n",
       "      <td>1.0</td>\n",
       "    </tr>\n",
       "    <tr>\n",
       "      <th>6</th>\n",
       "      <td>0.442498</td>\n",
       "      <td>0.539947</td>\n",
       "      <td>1.0</td>\n",
       "      <td>0.0</td>\n",
       "    </tr>\n",
       "    <tr>\n",
       "      <th>7</th>\n",
       "      <td>0.712718</td>\n",
       "      <td>0.757024</td>\n",
       "      <td>1.0</td>\n",
       "      <td>0.0</td>\n",
       "    </tr>\n",
       "    <tr>\n",
       "      <th>8</th>\n",
       "      <td>0.735407</td>\n",
       "      <td>0.595179</td>\n",
       "      <td>0.0</td>\n",
       "      <td>1.0</td>\n",
       "    </tr>\n",
       "    <tr>\n",
       "      <th>9</th>\n",
       "      <td>0.731525</td>\n",
       "      <td>0.562533</td>\n",
       "      <td>0.0</td>\n",
       "      <td>1.0</td>\n",
       "    </tr>\n",
       "    <tr>\n",
       "      <th>10</th>\n",
       "      <td>0.617360</td>\n",
       "      <td>0.509998</td>\n",
       "      <td>0.0</td>\n",
       "      <td>1.0</td>\n",
       "    </tr>\n",
       "    <tr>\n",
       "      <th>11</th>\n",
       "      <td>0.567596</td>\n",
       "      <td>0.377165</td>\n",
       "      <td>0.0</td>\n",
       "      <td>1.0</td>\n",
       "    </tr>\n",
       "    <tr>\n",
       "      <th>12</th>\n",
       "      <td>0.445990</td>\n",
       "      <td>0.255259</td>\n",
       "      <td>0.0</td>\n",
       "      <td>1.0</td>\n",
       "    </tr>\n",
       "    <tr>\n",
       "      <th>13</th>\n",
       "      <td>0.568023</td>\n",
       "      <td>0.380794</td>\n",
       "      <td>0.0</td>\n",
       "      <td>1.0</td>\n",
       "    </tr>\n",
       "    <tr>\n",
       "      <th>14</th>\n",
       "      <td>0.708954</td>\n",
       "      <td>0.640344</td>\n",
       "      <td>0.0</td>\n",
       "      <td>1.0</td>\n",
       "    </tr>\n",
       "    <tr>\n",
       "      <th>15</th>\n",
       "      <td>0.615039</td>\n",
       "      <td>0.411963</td>\n",
       "      <td>0.0</td>\n",
       "      <td>1.0</td>\n",
       "    </tr>\n",
       "    <tr>\n",
       "      <th>16</th>\n",
       "      <td>0.575577</td>\n",
       "      <td>0.405937</td>\n",
       "      <td>0.0</td>\n",
       "      <td>1.0</td>\n",
       "    </tr>\n",
       "    <tr>\n",
       "      <th>17</th>\n",
       "      <td>0.672854</td>\n",
       "      <td>0.544177</td>\n",
       "      <td>0.0</td>\n",
       "      <td>1.0</td>\n",
       "    </tr>\n",
       "    <tr>\n",
       "      <th>18</th>\n",
       "      <td>0.615235</td>\n",
       "      <td>0.725621</td>\n",
       "      <td>1.0</td>\n",
       "      <td>0.0</td>\n",
       "    </tr>\n",
       "    <tr>\n",
       "      <th>19</th>\n",
       "      <td>0.594639</td>\n",
       "      <td>0.646427</td>\n",
       "      <td>1.0</td>\n",
       "      <td>0.0</td>\n",
       "    </tr>\n",
       "    <tr>\n",
       "      <th>20</th>\n",
       "      <td>0.722278</td>\n",
       "      <td>0.554206</td>\n",
       "      <td>0.0</td>\n",
       "      <td>1.0</td>\n",
       "    </tr>\n",
       "    <tr>\n",
       "      <th>21</th>\n",
       "      <td>0.453758</td>\n",
       "      <td>0.521757</td>\n",
       "      <td>1.0</td>\n",
       "      <td>0.0</td>\n",
       "    </tr>\n",
       "    <tr>\n",
       "      <th>22</th>\n",
       "      <td>0.682233</td>\n",
       "      <td>0.527645</td>\n",
       "      <td>0.0</td>\n",
       "      <td>1.0</td>\n",
       "    </tr>\n",
       "    <tr>\n",
       "      <th>23</th>\n",
       "      <td>0.492047</td>\n",
       "      <td>0.315065</td>\n",
       "      <td>0.0</td>\n",
       "      <td>1.0</td>\n",
       "    </tr>\n",
       "    <tr>\n",
       "      <th>24</th>\n",
       "      <td>0.606778</td>\n",
       "      <td>0.769555</td>\n",
       "      <td>1.0</td>\n",
       "      <td>0.0</td>\n",
       "    </tr>\n",
       "    <tr>\n",
       "      <th>25</th>\n",
       "      <td>0.666528</td>\n",
       "      <td>0.538353</td>\n",
       "      <td>0.0</td>\n",
       "      <td>1.0</td>\n",
       "    </tr>\n",
       "    <tr>\n",
       "      <th>26</th>\n",
       "      <td>0.535200</td>\n",
       "      <td>0.349366</td>\n",
       "      <td>0.0</td>\n",
       "      <td>1.0</td>\n",
       "    </tr>\n",
       "    <tr>\n",
       "      <th>27</th>\n",
       "      <td>0.633616</td>\n",
       "      <td>0.668157</td>\n",
       "      <td>1.0</td>\n",
       "      <td>0.0</td>\n",
       "    </tr>\n",
       "    <tr>\n",
       "      <th>28</th>\n",
       "      <td>0.551381</td>\n",
       "      <td>0.671586</td>\n",
       "      <td>1.0</td>\n",
       "      <td>0.0</td>\n",
       "    </tr>\n",
       "    <tr>\n",
       "      <th>29</th>\n",
       "      <td>0.588845</td>\n",
       "      <td>0.740812</td>\n",
       "      <td>1.0</td>\n",
       "      <td>0.0</td>\n",
       "    </tr>\n",
       "    <tr>\n",
       "      <th>30</th>\n",
       "      <td>0.613950</td>\n",
       "      <td>0.653663</td>\n",
       "      <td>1.0</td>\n",
       "      <td>1.0</td>\n",
       "    </tr>\n",
       "    <tr>\n",
       "      <th>31</th>\n",
       "      <td>0.603888</td>\n",
       "      <td>0.734181</td>\n",
       "      <td>1.0</td>\n",
       "      <td>0.0</td>\n",
       "    </tr>\n",
       "    <tr>\n",
       "      <th>32</th>\n",
       "      <td>0.510673</td>\n",
       "      <td>0.678930</td>\n",
       "      <td>1.0</td>\n",
       "      <td>0.0</td>\n",
       "    </tr>\n",
       "    <tr>\n",
       "      <th>33</th>\n",
       "      <td>0.778487</td>\n",
       "      <td>0.883411</td>\n",
       "      <td>1.0</td>\n",
       "      <td>0.0</td>\n",
       "    </tr>\n",
       "    <tr>\n",
       "      <th>34</th>\n",
       "      <td>0.836738</td>\n",
       "      <td>0.894394</td>\n",
       "      <td>1.0</td>\n",
       "      <td>0.0</td>\n",
       "    </tr>\n",
       "    <tr>\n",
       "      <th>35</th>\n",
       "      <td>0.790188</td>\n",
       "      <td>0.882944</td>\n",
       "      <td>1.0</td>\n",
       "      <td>0.0</td>\n",
       "    </tr>\n",
       "    <tr>\n",
       "      <th>36</th>\n",
       "      <td>0.527952</td>\n",
       "      <td>0.399903</td>\n",
       "      <td>0.0</td>\n",
       "      <td>1.0</td>\n",
       "    </tr>\n",
       "    <tr>\n",
       "      <th>37</th>\n",
       "      <td>0.538207</td>\n",
       "      <td>0.553080</td>\n",
       "      <td>1.0</td>\n",
       "      <td>1.0</td>\n",
       "    </tr>\n",
       "    <tr>\n",
       "      <th>38</th>\n",
       "      <td>0.729860</td>\n",
       "      <td>0.807886</td>\n",
       "      <td>1.0</td>\n",
       "      <td>0.0</td>\n",
       "    </tr>\n",
       "    <tr>\n",
       "      <th>39</th>\n",
       "      <td>0.660421</td>\n",
       "      <td>0.752993</td>\n",
       "      <td>1.0</td>\n",
       "      <td>0.0</td>\n",
       "    </tr>\n",
       "  </tbody>\n",
       "</table>\n",
       "</div>"
      ],
      "text/plain": [
       "        habr    meduza  predict  class\n",
       "0   0.639532  0.610217      0.0    0.0\n",
       "1   0.440648  0.515293      1.0    0.0\n",
       "2   0.523431  0.678947      1.0    0.0\n",
       "3   0.705463  0.546877      0.0    1.0\n",
       "4   0.548292  0.619590      1.0    0.0\n",
       "5   0.697323  0.522043      0.0    1.0\n",
       "6   0.442498  0.539947      1.0    0.0\n",
       "7   0.712718  0.757024      1.0    0.0\n",
       "8   0.735407  0.595179      0.0    1.0\n",
       "9   0.731525  0.562533      0.0    1.0\n",
       "10  0.617360  0.509998      0.0    1.0\n",
       "11  0.567596  0.377165      0.0    1.0\n",
       "12  0.445990  0.255259      0.0    1.0\n",
       "13  0.568023  0.380794      0.0    1.0\n",
       "14  0.708954  0.640344      0.0    1.0\n",
       "15  0.615039  0.411963      0.0    1.0\n",
       "16  0.575577  0.405937      0.0    1.0\n",
       "17  0.672854  0.544177      0.0    1.0\n",
       "18  0.615235  0.725621      1.0    0.0\n",
       "19  0.594639  0.646427      1.0    0.0\n",
       "20  0.722278  0.554206      0.0    1.0\n",
       "21  0.453758  0.521757      1.0    0.0\n",
       "22  0.682233  0.527645      0.0    1.0\n",
       "23  0.492047  0.315065      0.0    1.0\n",
       "24  0.606778  0.769555      1.0    0.0\n",
       "25  0.666528  0.538353      0.0    1.0\n",
       "26  0.535200  0.349366      0.0    1.0\n",
       "27  0.633616  0.668157      1.0    0.0\n",
       "28  0.551381  0.671586      1.0    0.0\n",
       "29  0.588845  0.740812      1.0    0.0\n",
       "30  0.613950  0.653663      1.0    1.0\n",
       "31  0.603888  0.734181      1.0    0.0\n",
       "32  0.510673  0.678930      1.0    0.0\n",
       "33  0.778487  0.883411      1.0    0.0\n",
       "34  0.836738  0.894394      1.0    0.0\n",
       "35  0.790188  0.882944      1.0    0.0\n",
       "36  0.527952  0.399903      0.0    1.0\n",
       "37  0.538207  0.553080      1.0    1.0\n",
       "38  0.729860  0.807886      1.0    0.0\n",
       "39  0.660421  0.752993      1.0    0.0"
      ]
     },
     "execution_count": 100,
     "metadata": {},
     "output_type": "execute_result"
    }
   ],
   "source": [
    "from scipy.spatial.distance import cosine\n",
    "bof_habr = np.apply_along_axis(cosine, 1, bof_test.toarray(), v=habr_mean_bof)\n",
    "bof_meduza = np.apply_along_axis(cosine, 1, bof_test.toarray(), v=meduza_mean_bof)\n",
    "\n",
    "bof_results = pd.DataFrame([\n",
    "    bof_habr,\n",
    "    bof_meduza,\n",
    "    np.maximum(bof_habr,bof_meduza) == bof_meduza,\n",
    "    y_test\n",
    "], index=[\"habr\", \"meduza\", \"predict\", \"class\"]).T.astype(np.float)\n",
    "bof_results"
   ]
  },
  {
   "cell_type": "code",
   "execution_count": 101,
   "metadata": {},
   "outputs": [
    {
     "data": {
      "text/plain": [
       "0.075"
      ]
     },
     "execution_count": 101,
     "metadata": {},
     "output_type": "execute_result"
    }
   ],
   "source": [
    "from sklearn.metrics import accuracy_score\n",
    "accuracy_score(bof_results['predict'], bof_results['class'])"
   ]
  },
  {
   "cell_type": "code",
   "execution_count": 102,
   "metadata": {},
   "outputs": [
    {
     "data": {
      "text/html": [
       "<div>\n",
       "<style scoped>\n",
       "    .dataframe tbody tr th:only-of-type {\n",
       "        vertical-align: middle;\n",
       "    }\n",
       "\n",
       "    .dataframe tbody tr th {\n",
       "        vertical-align: top;\n",
       "    }\n",
       "\n",
       "    .dataframe thead th {\n",
       "        text-align: right;\n",
       "    }\n",
       "</style>\n",
       "<table border=\"1\" class=\"dataframe\">\n",
       "  <thead>\n",
       "    <tr style=\"text-align: right;\">\n",
       "      <th></th>\n",
       "      <th>habr</th>\n",
       "      <th>meduza</th>\n",
       "      <th>predict</th>\n",
       "      <th>class</th>\n",
       "    </tr>\n",
       "  </thead>\n",
       "  <tbody>\n",
       "    <tr>\n",
       "      <th>0</th>\n",
       "      <td>0.829445</td>\n",
       "      <td>0.808684</td>\n",
       "      <td>0.0</td>\n",
       "      <td>0.0</td>\n",
       "    </tr>\n",
       "    <tr>\n",
       "      <th>1</th>\n",
       "      <td>0.743598</td>\n",
       "      <td>0.794698</td>\n",
       "      <td>1.0</td>\n",
       "      <td>0.0</td>\n",
       "    </tr>\n",
       "    <tr>\n",
       "      <th>2</th>\n",
       "      <td>0.749985</td>\n",
       "      <td>0.884608</td>\n",
       "      <td>1.0</td>\n",
       "      <td>0.0</td>\n",
       "    </tr>\n",
       "    <tr>\n",
       "      <th>3</th>\n",
       "      <td>0.917039</td>\n",
       "      <td>0.796538</td>\n",
       "      <td>0.0</td>\n",
       "      <td>1.0</td>\n",
       "    </tr>\n",
       "    <tr>\n",
       "      <th>4</th>\n",
       "      <td>0.755556</td>\n",
       "      <td>0.796985</td>\n",
       "      <td>1.0</td>\n",
       "      <td>0.0</td>\n",
       "    </tr>\n",
       "    <tr>\n",
       "      <th>5</th>\n",
       "      <td>0.897898</td>\n",
       "      <td>0.751548</td>\n",
       "      <td>0.0</td>\n",
       "      <td>1.0</td>\n",
       "    </tr>\n",
       "    <tr>\n",
       "      <th>6</th>\n",
       "      <td>0.708172</td>\n",
       "      <td>0.780697</td>\n",
       "      <td>1.0</td>\n",
       "      <td>0.0</td>\n",
       "    </tr>\n",
       "    <tr>\n",
       "      <th>7</th>\n",
       "      <td>0.872157</td>\n",
       "      <td>0.916715</td>\n",
       "      <td>1.0</td>\n",
       "      <td>0.0</td>\n",
       "    </tr>\n",
       "    <tr>\n",
       "      <th>8</th>\n",
       "      <td>0.931054</td>\n",
       "      <td>0.853511</td>\n",
       "      <td>0.0</td>\n",
       "      <td>1.0</td>\n",
       "    </tr>\n",
       "    <tr>\n",
       "      <th>9</th>\n",
       "      <td>0.895825</td>\n",
       "      <td>0.737636</td>\n",
       "      <td>0.0</td>\n",
       "      <td>1.0</td>\n",
       "    </tr>\n",
       "    <tr>\n",
       "      <th>10</th>\n",
       "      <td>0.875656</td>\n",
       "      <td>0.765383</td>\n",
       "      <td>0.0</td>\n",
       "      <td>1.0</td>\n",
       "    </tr>\n",
       "    <tr>\n",
       "      <th>11</th>\n",
       "      <td>0.843303</td>\n",
       "      <td>0.691424</td>\n",
       "      <td>0.0</td>\n",
       "      <td>1.0</td>\n",
       "    </tr>\n",
       "    <tr>\n",
       "      <th>12</th>\n",
       "      <td>0.778228</td>\n",
       "      <td>0.539707</td>\n",
       "      <td>0.0</td>\n",
       "      <td>1.0</td>\n",
       "    </tr>\n",
       "    <tr>\n",
       "      <th>13</th>\n",
       "      <td>0.838924</td>\n",
       "      <td>0.639515</td>\n",
       "      <td>0.0</td>\n",
       "      <td>1.0</td>\n",
       "    </tr>\n",
       "    <tr>\n",
       "      <th>14</th>\n",
       "      <td>0.905288</td>\n",
       "      <td>0.845812</td>\n",
       "      <td>0.0</td>\n",
       "      <td>1.0</td>\n",
       "    </tr>\n",
       "    <tr>\n",
       "      <th>15</th>\n",
       "      <td>0.854809</td>\n",
       "      <td>0.653866</td>\n",
       "      <td>0.0</td>\n",
       "      <td>1.0</td>\n",
       "    </tr>\n",
       "    <tr>\n",
       "      <th>16</th>\n",
       "      <td>0.893943</td>\n",
       "      <td>0.749697</td>\n",
       "      <td>0.0</td>\n",
       "      <td>1.0</td>\n",
       "    </tr>\n",
       "    <tr>\n",
       "      <th>17</th>\n",
       "      <td>0.874655</td>\n",
       "      <td>0.754020</td>\n",
       "      <td>0.0</td>\n",
       "      <td>1.0</td>\n",
       "    </tr>\n",
       "    <tr>\n",
       "      <th>18</th>\n",
       "      <td>0.829147</td>\n",
       "      <td>0.893927</td>\n",
       "      <td>1.0</td>\n",
       "      <td>0.0</td>\n",
       "    </tr>\n",
       "    <tr>\n",
       "      <th>19</th>\n",
       "      <td>0.861407</td>\n",
       "      <td>0.892750</td>\n",
       "      <td>1.0</td>\n",
       "      <td>0.0</td>\n",
       "    </tr>\n",
       "    <tr>\n",
       "      <th>20</th>\n",
       "      <td>0.927772</td>\n",
       "      <td>0.810814</td>\n",
       "      <td>0.0</td>\n",
       "      <td>1.0</td>\n",
       "    </tr>\n",
       "    <tr>\n",
       "      <th>21</th>\n",
       "      <td>0.704310</td>\n",
       "      <td>0.735308</td>\n",
       "      <td>1.0</td>\n",
       "      <td>0.0</td>\n",
       "    </tr>\n",
       "    <tr>\n",
       "      <th>22</th>\n",
       "      <td>0.904808</td>\n",
       "      <td>0.764277</td>\n",
       "      <td>0.0</td>\n",
       "      <td>1.0</td>\n",
       "    </tr>\n",
       "    <tr>\n",
       "      <th>23</th>\n",
       "      <td>0.829904</td>\n",
       "      <td>0.637044</td>\n",
       "      <td>0.0</td>\n",
       "      <td>1.0</td>\n",
       "    </tr>\n",
       "    <tr>\n",
       "      <th>24</th>\n",
       "      <td>0.791104</td>\n",
       "      <td>0.918789</td>\n",
       "      <td>1.0</td>\n",
       "      <td>0.0</td>\n",
       "    </tr>\n",
       "    <tr>\n",
       "      <th>25</th>\n",
       "      <td>0.905929</td>\n",
       "      <td>0.815626</td>\n",
       "      <td>0.0</td>\n",
       "      <td>1.0</td>\n",
       "    </tr>\n",
       "    <tr>\n",
       "      <th>26</th>\n",
       "      <td>0.864309</td>\n",
       "      <td>0.728314</td>\n",
       "      <td>0.0</td>\n",
       "      <td>1.0</td>\n",
       "    </tr>\n",
       "    <tr>\n",
       "      <th>27</th>\n",
       "      <td>0.831298</td>\n",
       "      <td>0.859658</td>\n",
       "      <td>1.0</td>\n",
       "      <td>0.0</td>\n",
       "    </tr>\n",
       "    <tr>\n",
       "      <th>28</th>\n",
       "      <td>0.817231</td>\n",
       "      <td>0.892947</td>\n",
       "      <td>1.0</td>\n",
       "      <td>0.0</td>\n",
       "    </tr>\n",
       "    <tr>\n",
       "      <th>29</th>\n",
       "      <td>0.780798</td>\n",
       "      <td>0.902643</td>\n",
       "      <td>1.0</td>\n",
       "      <td>0.0</td>\n",
       "    </tr>\n",
       "    <tr>\n",
       "      <th>30</th>\n",
       "      <td>0.840841</td>\n",
       "      <td>0.852073</td>\n",
       "      <td>1.0</td>\n",
       "      <td>1.0</td>\n",
       "    </tr>\n",
       "    <tr>\n",
       "      <th>31</th>\n",
       "      <td>0.821634</td>\n",
       "      <td>0.923617</td>\n",
       "      <td>1.0</td>\n",
       "      <td>0.0</td>\n",
       "    </tr>\n",
       "    <tr>\n",
       "      <th>32</th>\n",
       "      <td>0.750628</td>\n",
       "      <td>0.878284</td>\n",
       "      <td>1.0</td>\n",
       "      <td>0.0</td>\n",
       "    </tr>\n",
       "    <tr>\n",
       "      <th>33</th>\n",
       "      <td>0.868325</td>\n",
       "      <td>0.963045</td>\n",
       "      <td>1.0</td>\n",
       "      <td>0.0</td>\n",
       "    </tr>\n",
       "    <tr>\n",
       "      <th>34</th>\n",
       "      <td>0.913201</td>\n",
       "      <td>0.973482</td>\n",
       "      <td>1.0</td>\n",
       "      <td>0.0</td>\n",
       "    </tr>\n",
       "    <tr>\n",
       "      <th>35</th>\n",
       "      <td>0.889729</td>\n",
       "      <td>0.950670</td>\n",
       "      <td>1.0</td>\n",
       "      <td>0.0</td>\n",
       "    </tr>\n",
       "    <tr>\n",
       "      <th>36</th>\n",
       "      <td>0.844286</td>\n",
       "      <td>0.705988</td>\n",
       "      <td>0.0</td>\n",
       "      <td>1.0</td>\n",
       "    </tr>\n",
       "    <tr>\n",
       "      <th>37</th>\n",
       "      <td>0.806281</td>\n",
       "      <td>0.817070</td>\n",
       "      <td>1.0</td>\n",
       "      <td>1.0</td>\n",
       "    </tr>\n",
       "    <tr>\n",
       "      <th>38</th>\n",
       "      <td>0.874688</td>\n",
       "      <td>0.938050</td>\n",
       "      <td>1.0</td>\n",
       "      <td>0.0</td>\n",
       "    </tr>\n",
       "    <tr>\n",
       "      <th>39</th>\n",
       "      <td>0.825585</td>\n",
       "      <td>0.893251</td>\n",
       "      <td>1.0</td>\n",
       "      <td>0.0</td>\n",
       "    </tr>\n",
       "  </tbody>\n",
       "</table>\n",
       "</div>"
      ],
      "text/plain": [
       "        habr    meduza  predict  class\n",
       "0   0.829445  0.808684      0.0    0.0\n",
       "1   0.743598  0.794698      1.0    0.0\n",
       "2   0.749985  0.884608      1.0    0.0\n",
       "3   0.917039  0.796538      0.0    1.0\n",
       "4   0.755556  0.796985      1.0    0.0\n",
       "5   0.897898  0.751548      0.0    1.0\n",
       "6   0.708172  0.780697      1.0    0.0\n",
       "7   0.872157  0.916715      1.0    0.0\n",
       "8   0.931054  0.853511      0.0    1.0\n",
       "9   0.895825  0.737636      0.0    1.0\n",
       "10  0.875656  0.765383      0.0    1.0\n",
       "11  0.843303  0.691424      0.0    1.0\n",
       "12  0.778228  0.539707      0.0    1.0\n",
       "13  0.838924  0.639515      0.0    1.0\n",
       "14  0.905288  0.845812      0.0    1.0\n",
       "15  0.854809  0.653866      0.0    1.0\n",
       "16  0.893943  0.749697      0.0    1.0\n",
       "17  0.874655  0.754020      0.0    1.0\n",
       "18  0.829147  0.893927      1.0    0.0\n",
       "19  0.861407  0.892750      1.0    0.0\n",
       "20  0.927772  0.810814      0.0    1.0\n",
       "21  0.704310  0.735308      1.0    0.0\n",
       "22  0.904808  0.764277      0.0    1.0\n",
       "23  0.829904  0.637044      0.0    1.0\n",
       "24  0.791104  0.918789      1.0    0.0\n",
       "25  0.905929  0.815626      0.0    1.0\n",
       "26  0.864309  0.728314      0.0    1.0\n",
       "27  0.831298  0.859658      1.0    0.0\n",
       "28  0.817231  0.892947      1.0    0.0\n",
       "29  0.780798  0.902643      1.0    0.0\n",
       "30  0.840841  0.852073      1.0    1.0\n",
       "31  0.821634  0.923617      1.0    0.0\n",
       "32  0.750628  0.878284      1.0    0.0\n",
       "33  0.868325  0.963045      1.0    0.0\n",
       "34  0.913201  0.973482      1.0    0.0\n",
       "35  0.889729  0.950670      1.0    0.0\n",
       "36  0.844286  0.705988      0.0    1.0\n",
       "37  0.806281  0.817070      1.0    1.0\n",
       "38  0.874688  0.938050      1.0    0.0\n",
       "39  0.825585  0.893251      1.0    0.0"
      ]
     },
     "execution_count": 102,
     "metadata": {},
     "output_type": "execute_result"
    }
   ],
   "source": [
    "tfidf_habr = np.apply_along_axis(cosine, 1, tfidf_test.toarray(), v=habr_mean_tfidf)\n",
    "tfidf_meduza = np.apply_along_axis(cosine, 1, tfidf_test.toarray(), v=meduza_mean_tfidf)\n",
    "\n",
    "tfidf_results = pd.DataFrame([\n",
    "    tfidf_habr,\n",
    "    tfidf_meduza,\n",
    "    np.maximum(tfidf_habr, tfidf_meduza) == tfidf_meduza,\n",
    "    y_test\n",
    "], index=[\"habr\", \"meduza\", \"predict\", \"class\"]).T.astype(np.float)\n",
    "tfidf_results"
   ]
  },
  {
   "cell_type": "code",
   "execution_count": 103,
   "metadata": {},
   "outputs": [
    {
     "data": {
      "text/plain": [
       "0.075"
      ]
     },
     "execution_count": 103,
     "metadata": {},
     "output_type": "execute_result"
    }
   ],
   "source": [
    "accuracy_score(tfidf_results['predict'], tfidf_results['class'])"
   ]
  },
  {
   "cell_type": "code",
   "execution_count": 104,
   "metadata": {},
   "outputs": [
    {
     "data": {
      "text/html": [
       "<div>\n",
       "<style scoped>\n",
       "    .dataframe tbody tr th:only-of-type {\n",
       "        vertical-align: middle;\n",
       "    }\n",
       "\n",
       "    .dataframe tbody tr th {\n",
       "        vertical-align: top;\n",
       "    }\n",
       "\n",
       "    .dataframe thead th {\n",
       "        text-align: right;\n",
       "    }\n",
       "</style>\n",
       "<table border=\"1\" class=\"dataframe\">\n",
       "  <thead>\n",
       "    <tr style=\"text-align: right;\">\n",
       "      <th></th>\n",
       "      <th>habr</th>\n",
       "      <th>meduza</th>\n",
       "      <th>predict</th>\n",
       "      <th>class</th>\n",
       "    </tr>\n",
       "  </thead>\n",
       "  <tbody>\n",
       "    <tr>\n",
       "      <th>0</th>\n",
       "      <td>0.000155</td>\n",
       "      <td>0.008885</td>\n",
       "      <td>1.0</td>\n",
       "      <td>0.0</td>\n",
       "    </tr>\n",
       "    <tr>\n",
       "      <th>1</th>\n",
       "      <td>0.000784</td>\n",
       "      <td>0.005697</td>\n",
       "      <td>1.0</td>\n",
       "      <td>0.0</td>\n",
       "    </tr>\n",
       "    <tr>\n",
       "      <th>2</th>\n",
       "      <td>0.000158</td>\n",
       "      <td>0.011887</td>\n",
       "      <td>1.0</td>\n",
       "      <td>0.0</td>\n",
       "    </tr>\n",
       "    <tr>\n",
       "      <th>3</th>\n",
       "      <td>0.012056</td>\n",
       "      <td>0.000110</td>\n",
       "      <td>0.0</td>\n",
       "      <td>1.0</td>\n",
       "    </tr>\n",
       "    <tr>\n",
       "      <th>4</th>\n",
       "      <td>0.000139</td>\n",
       "      <td>0.010835</td>\n",
       "      <td>1.0</td>\n",
       "      <td>0.0</td>\n",
       "    </tr>\n",
       "    <tr>\n",
       "      <th>5</th>\n",
       "      <td>0.001441</td>\n",
       "      <td>0.004062</td>\n",
       "      <td>1.0</td>\n",
       "      <td>1.0</td>\n",
       "    </tr>\n",
       "    <tr>\n",
       "      <th>6</th>\n",
       "      <td>0.000221</td>\n",
       "      <td>0.008416</td>\n",
       "      <td>1.0</td>\n",
       "      <td>0.0</td>\n",
       "    </tr>\n",
       "    <tr>\n",
       "      <th>7</th>\n",
       "      <td>0.000039</td>\n",
       "      <td>0.010643</td>\n",
       "      <td>1.0</td>\n",
       "      <td>0.0</td>\n",
       "    </tr>\n",
       "    <tr>\n",
       "      <th>8</th>\n",
       "      <td>0.007323</td>\n",
       "      <td>0.000244</td>\n",
       "      <td>0.0</td>\n",
       "      <td>1.0</td>\n",
       "    </tr>\n",
       "    <tr>\n",
       "      <th>9</th>\n",
       "      <td>0.013652</td>\n",
       "      <td>0.000426</td>\n",
       "      <td>0.0</td>\n",
       "      <td>1.0</td>\n",
       "    </tr>\n",
       "    <tr>\n",
       "      <th>10</th>\n",
       "      <td>0.001725</td>\n",
       "      <td>0.003630</td>\n",
       "      <td>1.0</td>\n",
       "      <td>1.0</td>\n",
       "    </tr>\n",
       "    <tr>\n",
       "      <th>11</th>\n",
       "      <td>0.009074</td>\n",
       "      <td>0.000044</td>\n",
       "      <td>0.0</td>\n",
       "      <td>1.0</td>\n",
       "    </tr>\n",
       "    <tr>\n",
       "      <th>12</th>\n",
       "      <td>0.013807</td>\n",
       "      <td>0.000416</td>\n",
       "      <td>0.0</td>\n",
       "      <td>1.0</td>\n",
       "    </tr>\n",
       "    <tr>\n",
       "      <th>13</th>\n",
       "      <td>0.010725</td>\n",
       "      <td>0.000089</td>\n",
       "      <td>0.0</td>\n",
       "      <td>1.0</td>\n",
       "    </tr>\n",
       "    <tr>\n",
       "      <th>14</th>\n",
       "      <td>0.000887</td>\n",
       "      <td>0.005163</td>\n",
       "      <td>1.0</td>\n",
       "      <td>1.0</td>\n",
       "    </tr>\n",
       "    <tr>\n",
       "      <th>15</th>\n",
       "      <td>0.004032</td>\n",
       "      <td>0.001485</td>\n",
       "      <td>0.0</td>\n",
       "      <td>1.0</td>\n",
       "    </tr>\n",
       "    <tr>\n",
       "      <th>16</th>\n",
       "      <td>0.012017</td>\n",
       "      <td>0.000091</td>\n",
       "      <td>0.0</td>\n",
       "      <td>1.0</td>\n",
       "    </tr>\n",
       "    <tr>\n",
       "      <th>17</th>\n",
       "      <td>0.002462</td>\n",
       "      <td>0.002697</td>\n",
       "      <td>1.0</td>\n",
       "      <td>1.0</td>\n",
       "    </tr>\n",
       "    <tr>\n",
       "      <th>18</th>\n",
       "      <td>0.000135</td>\n",
       "      <td>0.009865</td>\n",
       "      <td>1.0</td>\n",
       "      <td>0.0</td>\n",
       "    </tr>\n",
       "    <tr>\n",
       "      <th>19</th>\n",
       "      <td>0.000734</td>\n",
       "      <td>0.005897</td>\n",
       "      <td>1.0</td>\n",
       "      <td>0.0</td>\n",
       "    </tr>\n",
       "    <tr>\n",
       "      <th>20</th>\n",
       "      <td>0.021541</td>\n",
       "      <td>0.002304</td>\n",
       "      <td>0.0</td>\n",
       "      <td>1.0</td>\n",
       "    </tr>\n",
       "    <tr>\n",
       "      <th>21</th>\n",
       "      <td>0.000163</td>\n",
       "      <td>0.010110</td>\n",
       "      <td>1.0</td>\n",
       "      <td>0.0</td>\n",
       "    </tr>\n",
       "    <tr>\n",
       "      <th>22</th>\n",
       "      <td>0.010520</td>\n",
       "      <td>0.000038</td>\n",
       "      <td>0.0</td>\n",
       "      <td>1.0</td>\n",
       "    </tr>\n",
       "    <tr>\n",
       "      <th>23</th>\n",
       "      <td>0.018529</td>\n",
       "      <td>0.001338</td>\n",
       "      <td>0.0</td>\n",
       "      <td>1.0</td>\n",
       "    </tr>\n",
       "    <tr>\n",
       "      <th>24</th>\n",
       "      <td>0.000197</td>\n",
       "      <td>0.013197</td>\n",
       "      <td>1.0</td>\n",
       "      <td>0.0</td>\n",
       "    </tr>\n",
       "    <tr>\n",
       "      <th>25</th>\n",
       "      <td>0.008808</td>\n",
       "      <td>0.000056</td>\n",
       "      <td>0.0</td>\n",
       "      <td>1.0</td>\n",
       "    </tr>\n",
       "    <tr>\n",
       "      <th>26</th>\n",
       "      <td>0.006301</td>\n",
       "      <td>0.000513</td>\n",
       "      <td>0.0</td>\n",
       "      <td>1.0</td>\n",
       "    </tr>\n",
       "    <tr>\n",
       "      <th>27</th>\n",
       "      <td>0.000202</td>\n",
       "      <td>0.007938</td>\n",
       "      <td>1.0</td>\n",
       "      <td>0.0</td>\n",
       "    </tr>\n",
       "    <tr>\n",
       "      <th>28</th>\n",
       "      <td>0.000277</td>\n",
       "      <td>0.013328</td>\n",
       "      <td>1.0</td>\n",
       "      <td>0.0</td>\n",
       "    </tr>\n",
       "    <tr>\n",
       "      <th>29</th>\n",
       "      <td>0.000194</td>\n",
       "      <td>0.008136</td>\n",
       "      <td>1.0</td>\n",
       "      <td>0.0</td>\n",
       "    </tr>\n",
       "    <tr>\n",
       "      <th>30</th>\n",
       "      <td>0.013297</td>\n",
       "      <td>0.000397</td>\n",
       "      <td>0.0</td>\n",
       "      <td>1.0</td>\n",
       "    </tr>\n",
       "    <tr>\n",
       "      <th>31</th>\n",
       "      <td>0.001853</td>\n",
       "      <td>0.020363</td>\n",
       "      <td>1.0</td>\n",
       "      <td>0.0</td>\n",
       "    </tr>\n",
       "    <tr>\n",
       "      <th>32</th>\n",
       "      <td>0.000084</td>\n",
       "      <td>0.009768</td>\n",
       "      <td>1.0</td>\n",
       "      <td>0.0</td>\n",
       "    </tr>\n",
       "    <tr>\n",
       "      <th>33</th>\n",
       "      <td>0.000828</td>\n",
       "      <td>0.016217</td>\n",
       "      <td>1.0</td>\n",
       "      <td>0.0</td>\n",
       "    </tr>\n",
       "    <tr>\n",
       "      <th>34</th>\n",
       "      <td>0.010643</td>\n",
       "      <td>0.037342</td>\n",
       "      <td>1.0</td>\n",
       "      <td>0.0</td>\n",
       "    </tr>\n",
       "    <tr>\n",
       "      <th>35</th>\n",
       "      <td>0.000088</td>\n",
       "      <td>0.012096</td>\n",
       "      <td>1.0</td>\n",
       "      <td>0.0</td>\n",
       "    </tr>\n",
       "    <tr>\n",
       "      <th>36</th>\n",
       "      <td>0.002251</td>\n",
       "      <td>0.003102</td>\n",
       "      <td>1.0</td>\n",
       "      <td>1.0</td>\n",
       "    </tr>\n",
       "    <tr>\n",
       "      <th>37</th>\n",
       "      <td>0.002266</td>\n",
       "      <td>0.002910</td>\n",
       "      <td>1.0</td>\n",
       "      <td>1.0</td>\n",
       "    </tr>\n",
       "    <tr>\n",
       "      <th>38</th>\n",
       "      <td>0.000247</td>\n",
       "      <td>0.013467</td>\n",
       "      <td>1.0</td>\n",
       "      <td>0.0</td>\n",
       "    </tr>\n",
       "    <tr>\n",
       "      <th>39</th>\n",
       "      <td>0.000323</td>\n",
       "      <td>0.013697</td>\n",
       "      <td>1.0</td>\n",
       "      <td>0.0</td>\n",
       "    </tr>\n",
       "  </tbody>\n",
       "</table>\n",
       "</div>"
      ],
      "text/plain": [
       "        habr    meduza  predict  class\n",
       "0   0.000155  0.008885      1.0    0.0\n",
       "1   0.000784  0.005697      1.0    0.0\n",
       "2   0.000158  0.011887      1.0    0.0\n",
       "3   0.012056  0.000110      0.0    1.0\n",
       "4   0.000139  0.010835      1.0    0.0\n",
       "5   0.001441  0.004062      1.0    1.0\n",
       "6   0.000221  0.008416      1.0    0.0\n",
       "7   0.000039  0.010643      1.0    0.0\n",
       "8   0.007323  0.000244      0.0    1.0\n",
       "9   0.013652  0.000426      0.0    1.0\n",
       "10  0.001725  0.003630      1.0    1.0\n",
       "11  0.009074  0.000044      0.0    1.0\n",
       "12  0.013807  0.000416      0.0    1.0\n",
       "13  0.010725  0.000089      0.0    1.0\n",
       "14  0.000887  0.005163      1.0    1.0\n",
       "15  0.004032  0.001485      0.0    1.0\n",
       "16  0.012017  0.000091      0.0    1.0\n",
       "17  0.002462  0.002697      1.0    1.0\n",
       "18  0.000135  0.009865      1.0    0.0\n",
       "19  0.000734  0.005897      1.0    0.0\n",
       "20  0.021541  0.002304      0.0    1.0\n",
       "21  0.000163  0.010110      1.0    0.0\n",
       "22  0.010520  0.000038      0.0    1.0\n",
       "23  0.018529  0.001338      0.0    1.0\n",
       "24  0.000197  0.013197      1.0    0.0\n",
       "25  0.008808  0.000056      0.0    1.0\n",
       "26  0.006301  0.000513      0.0    1.0\n",
       "27  0.000202  0.007938      1.0    0.0\n",
       "28  0.000277  0.013328      1.0    0.0\n",
       "29  0.000194  0.008136      1.0    0.0\n",
       "30  0.013297  0.000397      0.0    1.0\n",
       "31  0.001853  0.020363      1.0    0.0\n",
       "32  0.000084  0.009768      1.0    0.0\n",
       "33  0.000828  0.016217      1.0    0.0\n",
       "34  0.010643  0.037342      1.0    0.0\n",
       "35  0.000088  0.012096      1.0    0.0\n",
       "36  0.002251  0.003102      1.0    1.0\n",
       "37  0.002266  0.002910      1.0    1.0\n",
       "38  0.000247  0.013467      1.0    0.0\n",
       "39  0.000323  0.013697      1.0    0.0"
      ]
     },
     "execution_count": 104,
     "metadata": {},
     "output_type": "execute_result"
    }
   ],
   "source": [
    "w2v_habr = np.apply_along_axis(cosine, 0, w2v_test, v=habr_mean_w2v)\n",
    "w2v_meduza = np.apply_along_axis(cosine, 0, w2v_test, v=meduza_mean_w2v)\n",
    "\n",
    "w2v_results = pd.DataFrame([\n",
    "    w2v_habr,\n",
    "    w2v_meduza,\n",
    "    np.maximum(w2v_habr, w2v_meduza) == w2v_meduza,\n",
    "    y_test\n",
    "], index=[\"habr\", \"meduza\", \"predict\", \"class\"]).T.astype(np.float)\n",
    "w2v_results"
   ]
  },
  {
   "cell_type": "code",
   "execution_count": 105,
   "metadata": {},
   "outputs": [
    {
     "data": {
      "text/plain": [
       "0.15"
      ]
     },
     "execution_count": 105,
     "metadata": {},
     "output_type": "execute_result"
    }
   ],
   "source": [
    "accuracy_score(w2v_results['predict'], w2v_results['class'])"
   ]
  },
  {
   "cell_type": "markdown",
   "metadata": {},
   "source": [
    "![title](mem/2.jpg)"
   ]
  },
  {
   "cell_type": "markdown",
   "metadata": {},
   "source": [
    "\n",
    "### Напоследок попробуем применить поверх эмбеддингов какую-нибудь классическую модель машинного обучения, например, случайный лес"
   ]
  },
  {
   "cell_type": "code",
   "execution_count": 106,
   "metadata": {},
   "outputs": [
    {
     "data": {
      "text/plain": [
       "0.975"
      ]
     },
     "execution_count": 106,
     "metadata": {},
     "output_type": "execute_result"
    }
   ],
   "source": [
    "from sklearn.ensemble import RandomForestClassifier\n",
    "RandomForestClassifier().fit(bof_train.toarray(), y_train.tolist()).score(bof_test.toarray(), y_test.tolist())"
   ]
  },
  {
   "cell_type": "code",
   "execution_count": 107,
   "metadata": {},
   "outputs": [
    {
     "data": {
      "text/plain": [
       "0.975"
      ]
     },
     "execution_count": 107,
     "metadata": {},
     "output_type": "execute_result"
    }
   ],
   "source": [
    "RandomForestClassifier().fit(tfidf_train.toarray(), y_train.tolist()).score(tfidf_test.toarray(), y_test.tolist())"
   ]
  },
  {
   "cell_type": "code",
   "execution_count": 108,
   "metadata": {},
   "outputs": [
    {
     "data": {
      "text/plain": [
       "0.9"
      ]
     },
     "execution_count": 108,
     "metadata": {},
     "output_type": "execute_result"
    }
   ],
   "source": [
    "RandomForestClassifier().fit(w2v_train.T, y_train.tolist()).score(w2v_test.T, y_test.tolist())"
   ]
  },
  {
   "cell_type": "markdown",
   "metadata": {},
   "source": [
    "# Исходя из всего курса можно сделать вывод: мы готовы работать в сбере\n",
    "![title](mem/1.1.jpg)"
   ]
  },
  {
   "cell_type": "code",
   "execution_count": null,
   "metadata": {},
   "outputs": [],
   "source": []
  }
 ],
 "metadata": {
  "kernelspec": {
   "display_name": "Python 3",
   "language": "python",
   "name": "python3"
  },
  "language_info": {
   "codemirror_mode": {
    "name": "ipython",
    "version": 3
   },
   "file_extension": ".py",
   "mimetype": "text/x-python",
   "name": "python",
   "nbconvert_exporter": "python",
   "pygments_lexer": "ipython3",
   "version": "3.8.3"
  }
 },
 "nbformat": 4,
 "nbformat_minor": 4
}
